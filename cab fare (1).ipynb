{
 "cells": [
  {
   "cell_type": "code",
   "execution_count": 1,
   "id": "bb682539",
   "metadata": {},
   "outputs": [],
   "source": [
    "import os\n",
    "import numpy as np\n",
    "import pandas as pd\n",
    "import matplotlib.pyplot as plt\n",
    "import seaborn as sns\n",
    "from collections import Counter\n",
    "from sklearn.ensemble import RandomForestRegressor\n",
    "from sklearn.ensemble import GradientBoostingRegressor\n",
    "from sklearn.tree import DecisionTreeRegressor\n",
    "from sklearn.linear_model import LinearRegression\n",
    "from sklearn.model_selection import train_test_split\n",
    "from sklearn.metrics import mean_squared_error\n",
    "from sklearn.metrics import r2_score\n",
    "from pprint import pprint\n",
    "from sklearn.model_selection import GridSearchCV"
   ]
  },
  {
   "cell_type": "code",
   "execution_count": 2,
   "id": "54486ffc",
   "metadata": {},
   "outputs": [
    {
     "name": "stdout",
     "output_type": "stream",
     "text": [
      "C:\\Users\\S\\Downloads\\dataset\n"
     ]
    }
   ],
   "source": [
    "os.chdir(\"C:/Users/S/Downloads/dataset\")\n",
    "print(os.getcwd())"
   ]
  },
  {
   "cell_type": "code",
   "execution_count": 3,
   "id": "08b56bf6",
   "metadata": {},
   "outputs": [],
   "source": [
    "train = pd.read_csv(\"train_cab_fare.csv\",na_values={\"pickup_datetime\":\"43\"})\n",
    "test = pd.read_csv(\"test_cab_fare.csv\")"
   ]
  },
  {
   "cell_type": "code",
   "execution_count": 4,
   "id": "b580d5ac",
   "metadata": {},
   "outputs": [
    {
     "data": {
      "text/html": [
       "<div>\n",
       "<style scoped>\n",
       "    .dataframe tbody tr th:only-of-type {\n",
       "        vertical-align: middle;\n",
       "    }\n",
       "\n",
       "    .dataframe tbody tr th {\n",
       "        vertical-align: top;\n",
       "    }\n",
       "\n",
       "    .dataframe thead th {\n",
       "        text-align: right;\n",
       "    }\n",
       "</style>\n",
       "<table border=\"1\" class=\"dataframe\">\n",
       "  <thead>\n",
       "    <tr style=\"text-align: right;\">\n",
       "      <th></th>\n",
       "      <th>fare_amount</th>\n",
       "      <th>pickup_datetime</th>\n",
       "      <th>pickup_longitude</th>\n",
       "      <th>pickup_latitude</th>\n",
       "      <th>dropoff_longitude</th>\n",
       "      <th>dropoff_latitude</th>\n",
       "      <th>passenger_count</th>\n",
       "    </tr>\n",
       "  </thead>\n",
       "  <tbody>\n",
       "    <tr>\n",
       "      <th>0</th>\n",
       "      <td>4.5</td>\n",
       "      <td>2009-06-15 17:26:21 UTC</td>\n",
       "      <td>-73.844311</td>\n",
       "      <td>40.721319</td>\n",
       "      <td>-73.841610</td>\n",
       "      <td>40.712278</td>\n",
       "      <td>1.0</td>\n",
       "    </tr>\n",
       "    <tr>\n",
       "      <th>1</th>\n",
       "      <td>16.9</td>\n",
       "      <td>2010-01-05 16:52:16 UTC</td>\n",
       "      <td>-74.016048</td>\n",
       "      <td>40.711303</td>\n",
       "      <td>-73.979268</td>\n",
       "      <td>40.782004</td>\n",
       "      <td>1.0</td>\n",
       "    </tr>\n",
       "    <tr>\n",
       "      <th>2</th>\n",
       "      <td>5.7</td>\n",
       "      <td>2011-08-18 00:35:00 UTC</td>\n",
       "      <td>-73.982738</td>\n",
       "      <td>40.761270</td>\n",
       "      <td>-73.991242</td>\n",
       "      <td>40.750562</td>\n",
       "      <td>2.0</td>\n",
       "    </tr>\n",
       "    <tr>\n",
       "      <th>3</th>\n",
       "      <td>7.7</td>\n",
       "      <td>2012-04-21 04:30:42 UTC</td>\n",
       "      <td>-73.987130</td>\n",
       "      <td>40.733143</td>\n",
       "      <td>-73.991567</td>\n",
       "      <td>40.758092</td>\n",
       "      <td>1.0</td>\n",
       "    </tr>\n",
       "    <tr>\n",
       "      <th>4</th>\n",
       "      <td>5.3</td>\n",
       "      <td>2010-03-09 07:51:00 UTC</td>\n",
       "      <td>-73.968095</td>\n",
       "      <td>40.768008</td>\n",
       "      <td>-73.956655</td>\n",
       "      <td>40.783762</td>\n",
       "      <td>1.0</td>\n",
       "    </tr>\n",
       "    <tr>\n",
       "      <th>...</th>\n",
       "      <td>...</td>\n",
       "      <td>...</td>\n",
       "      <td>...</td>\n",
       "      <td>...</td>\n",
       "      <td>...</td>\n",
       "      <td>...</td>\n",
       "      <td>...</td>\n",
       "    </tr>\n",
       "    <tr>\n",
       "      <th>16062</th>\n",
       "      <td>6.5</td>\n",
       "      <td>2014-12-12 07:41:00 UTC</td>\n",
       "      <td>-74.008820</td>\n",
       "      <td>40.718757</td>\n",
       "      <td>-73.998865</td>\n",
       "      <td>40.719987</td>\n",
       "      <td>1.0</td>\n",
       "    </tr>\n",
       "    <tr>\n",
       "      <th>16063</th>\n",
       "      <td>16.1</td>\n",
       "      <td>2009-07-13 07:58:00 UTC</td>\n",
       "      <td>-73.981310</td>\n",
       "      <td>40.781695</td>\n",
       "      <td>-74.014392</td>\n",
       "      <td>40.715527</td>\n",
       "      <td>2.0</td>\n",
       "    </tr>\n",
       "    <tr>\n",
       "      <th>16064</th>\n",
       "      <td>8.5</td>\n",
       "      <td>2009-11-11 11:19:07 UTC</td>\n",
       "      <td>-73.972507</td>\n",
       "      <td>40.753417</td>\n",
       "      <td>-73.979577</td>\n",
       "      <td>40.765495</td>\n",
       "      <td>1.0</td>\n",
       "    </tr>\n",
       "    <tr>\n",
       "      <th>16065</th>\n",
       "      <td>8.1</td>\n",
       "      <td>2010-05-11 23:53:00 UTC</td>\n",
       "      <td>-73.957027</td>\n",
       "      <td>40.765945</td>\n",
       "      <td>-73.981983</td>\n",
       "      <td>40.779560</td>\n",
       "      <td>1.0</td>\n",
       "    </tr>\n",
       "    <tr>\n",
       "      <th>16066</th>\n",
       "      <td>8.5</td>\n",
       "      <td>2011-12-14 06:24:33 UTC</td>\n",
       "      <td>-74.002111</td>\n",
       "      <td>40.729755</td>\n",
       "      <td>-73.983877</td>\n",
       "      <td>40.761975</td>\n",
       "      <td>NaN</td>\n",
       "    </tr>\n",
       "  </tbody>\n",
       "</table>\n",
       "<p>16067 rows × 7 columns</p>\n",
       "</div>"
      ],
      "text/plain": [
       "      fare_amount          pickup_datetime  pickup_longitude  pickup_latitude  \\\n",
       "0             4.5  2009-06-15 17:26:21 UTC        -73.844311        40.721319   \n",
       "1            16.9  2010-01-05 16:52:16 UTC        -74.016048        40.711303   \n",
       "2             5.7  2011-08-18 00:35:00 UTC        -73.982738        40.761270   \n",
       "3             7.7  2012-04-21 04:30:42 UTC        -73.987130        40.733143   \n",
       "4             5.3  2010-03-09 07:51:00 UTC        -73.968095        40.768008   \n",
       "...           ...                      ...               ...              ...   \n",
       "16062         6.5  2014-12-12 07:41:00 UTC        -74.008820        40.718757   \n",
       "16063        16.1  2009-07-13 07:58:00 UTC        -73.981310        40.781695   \n",
       "16064         8.5  2009-11-11 11:19:07 UTC        -73.972507        40.753417   \n",
       "16065         8.1  2010-05-11 23:53:00 UTC        -73.957027        40.765945   \n",
       "16066         8.5  2011-12-14 06:24:33 UTC        -74.002111        40.729755   \n",
       "\n",
       "       dropoff_longitude  dropoff_latitude  passenger_count  \n",
       "0             -73.841610         40.712278              1.0  \n",
       "1             -73.979268         40.782004              1.0  \n",
       "2             -73.991242         40.750562              2.0  \n",
       "3             -73.991567         40.758092              1.0  \n",
       "4             -73.956655         40.783762              1.0  \n",
       "...                  ...               ...              ...  \n",
       "16062         -73.998865         40.719987              1.0  \n",
       "16063         -74.014392         40.715527              2.0  \n",
       "16064         -73.979577         40.765495              1.0  \n",
       "16065         -73.981983         40.779560              1.0  \n",
       "16066         -73.983877         40.761975              NaN  \n",
       "\n",
       "[16067 rows x 7 columns]"
      ]
     },
     "execution_count": 4,
     "metadata": {},
     "output_type": "execute_result"
    }
   ],
   "source": [
    "train"
   ]
  },
  {
   "cell_type": "code",
   "execution_count": 5,
   "id": "6a25395a",
   "metadata": {},
   "outputs": [
    {
     "data": {
      "text/html": [
       "<div>\n",
       "<style scoped>\n",
       "    .dataframe tbody tr th:only-of-type {\n",
       "        vertical-align: middle;\n",
       "    }\n",
       "\n",
       "    .dataframe tbody tr th {\n",
       "        vertical-align: top;\n",
       "    }\n",
       "\n",
       "    .dataframe thead th {\n",
       "        text-align: right;\n",
       "    }\n",
       "</style>\n",
       "<table border=\"1\" class=\"dataframe\">\n",
       "  <thead>\n",
       "    <tr style=\"text-align: right;\">\n",
       "      <th></th>\n",
       "      <th>pickup_datetime</th>\n",
       "      <th>pickup_longitude</th>\n",
       "      <th>pickup_latitude</th>\n",
       "      <th>dropoff_longitude</th>\n",
       "      <th>dropoff_latitude</th>\n",
       "      <th>passenger_count</th>\n",
       "    </tr>\n",
       "  </thead>\n",
       "  <tbody>\n",
       "    <tr>\n",
       "      <th>0</th>\n",
       "      <td>2015-01-27 13:08:24 UTC</td>\n",
       "      <td>-73.973320</td>\n",
       "      <td>40.763805</td>\n",
       "      <td>-73.981430</td>\n",
       "      <td>40.743835</td>\n",
       "      <td>1</td>\n",
       "    </tr>\n",
       "    <tr>\n",
       "      <th>1</th>\n",
       "      <td>2015-01-27 13:08:24 UTC</td>\n",
       "      <td>-73.986862</td>\n",
       "      <td>40.719383</td>\n",
       "      <td>-73.998886</td>\n",
       "      <td>40.739201</td>\n",
       "      <td>1</td>\n",
       "    </tr>\n",
       "    <tr>\n",
       "      <th>2</th>\n",
       "      <td>2011-10-08 11:53:44 UTC</td>\n",
       "      <td>-73.982524</td>\n",
       "      <td>40.751260</td>\n",
       "      <td>-73.979654</td>\n",
       "      <td>40.746139</td>\n",
       "      <td>1</td>\n",
       "    </tr>\n",
       "    <tr>\n",
       "      <th>3</th>\n",
       "      <td>2012-12-01 21:12:12 UTC</td>\n",
       "      <td>-73.981160</td>\n",
       "      <td>40.767807</td>\n",
       "      <td>-73.990448</td>\n",
       "      <td>40.751635</td>\n",
       "      <td>1</td>\n",
       "    </tr>\n",
       "    <tr>\n",
       "      <th>4</th>\n",
       "      <td>2012-12-01 21:12:12 UTC</td>\n",
       "      <td>-73.966046</td>\n",
       "      <td>40.789775</td>\n",
       "      <td>-73.988565</td>\n",
       "      <td>40.744427</td>\n",
       "      <td>1</td>\n",
       "    </tr>\n",
       "  </tbody>\n",
       "</table>\n",
       "</div>"
      ],
      "text/plain": [
       "           pickup_datetime  pickup_longitude  pickup_latitude  \\\n",
       "0  2015-01-27 13:08:24 UTC        -73.973320        40.763805   \n",
       "1  2015-01-27 13:08:24 UTC        -73.986862        40.719383   \n",
       "2  2011-10-08 11:53:44 UTC        -73.982524        40.751260   \n",
       "3  2012-12-01 21:12:12 UTC        -73.981160        40.767807   \n",
       "4  2012-12-01 21:12:12 UTC        -73.966046        40.789775   \n",
       "\n",
       "   dropoff_longitude  dropoff_latitude  passenger_count  \n",
       "0         -73.981430         40.743835                1  \n",
       "1         -73.998886         40.739201                1  \n",
       "2         -73.979654         40.746139                1  \n",
       "3         -73.990448         40.751635                1  \n",
       "4         -73.988565         40.744427                1  "
      ]
     },
     "execution_count": 5,
     "metadata": {},
     "output_type": "execute_result"
    }
   ],
   "source": [
    "test.head()"
   ]
  },
  {
   "cell_type": "code",
   "execution_count": 6,
   "id": "041101b5",
   "metadata": {},
   "outputs": [
    {
     "data": {
      "text/plain": [
       "(16067, 7)"
      ]
     },
     "execution_count": 6,
     "metadata": {},
     "output_type": "execute_result"
    }
   ],
   "source": [
    "train.shape"
   ]
  },
  {
   "cell_type": "code",
   "execution_count": 7,
   "id": "3e763ec7",
   "metadata": {},
   "outputs": [
    {
     "data": {
      "text/plain": [
       "(9914, 6)"
      ]
     },
     "execution_count": 7,
     "metadata": {},
     "output_type": "execute_result"
    }
   ],
   "source": [
    "test.shape"
   ]
  },
  {
   "cell_type": "code",
   "execution_count": 8,
   "id": "b786e317",
   "metadata": {},
   "outputs": [
    {
     "data": {
      "text/html": [
       "<div>\n",
       "<style scoped>\n",
       "    .dataframe tbody tr th:only-of-type {\n",
       "        vertical-align: middle;\n",
       "    }\n",
       "\n",
       "    .dataframe tbody tr th {\n",
       "        vertical-align: top;\n",
       "    }\n",
       "\n",
       "    .dataframe thead th {\n",
       "        text-align: right;\n",
       "    }\n",
       "</style>\n",
       "<table border=\"1\" class=\"dataframe\">\n",
       "  <thead>\n",
       "    <tr style=\"text-align: right;\">\n",
       "      <th></th>\n",
       "      <th>pickup_longitude</th>\n",
       "      <th>pickup_latitude</th>\n",
       "      <th>dropoff_longitude</th>\n",
       "      <th>dropoff_latitude</th>\n",
       "      <th>passenger_count</th>\n",
       "    </tr>\n",
       "  </thead>\n",
       "  <tbody>\n",
       "    <tr>\n",
       "      <th>count</th>\n",
       "      <td>9914.000000</td>\n",
       "      <td>9914.000000</td>\n",
       "      <td>9914.000000</td>\n",
       "      <td>9914.000000</td>\n",
       "      <td>9914.000000</td>\n",
       "    </tr>\n",
       "    <tr>\n",
       "      <th>mean</th>\n",
       "      <td>-73.974722</td>\n",
       "      <td>40.751041</td>\n",
       "      <td>-73.973657</td>\n",
       "      <td>40.751743</td>\n",
       "      <td>1.671273</td>\n",
       "    </tr>\n",
       "    <tr>\n",
       "      <th>std</th>\n",
       "      <td>0.042774</td>\n",
       "      <td>0.033541</td>\n",
       "      <td>0.039072</td>\n",
       "      <td>0.035435</td>\n",
       "      <td>1.278747</td>\n",
       "    </tr>\n",
       "    <tr>\n",
       "      <th>min</th>\n",
       "      <td>-74.252193</td>\n",
       "      <td>40.573143</td>\n",
       "      <td>-74.263242</td>\n",
       "      <td>40.568973</td>\n",
       "      <td>1.000000</td>\n",
       "    </tr>\n",
       "    <tr>\n",
       "      <th>25%</th>\n",
       "      <td>-73.992501</td>\n",
       "      <td>40.736125</td>\n",
       "      <td>-73.991247</td>\n",
       "      <td>40.735254</td>\n",
       "      <td>1.000000</td>\n",
       "    </tr>\n",
       "    <tr>\n",
       "      <th>50%</th>\n",
       "      <td>-73.982326</td>\n",
       "      <td>40.753051</td>\n",
       "      <td>-73.980015</td>\n",
       "      <td>40.754065</td>\n",
       "      <td>1.000000</td>\n",
       "    </tr>\n",
       "    <tr>\n",
       "      <th>75%</th>\n",
       "      <td>-73.968013</td>\n",
       "      <td>40.767113</td>\n",
       "      <td>-73.964059</td>\n",
       "      <td>40.768757</td>\n",
       "      <td>2.000000</td>\n",
       "    </tr>\n",
       "    <tr>\n",
       "      <th>max</th>\n",
       "      <td>-72.986532</td>\n",
       "      <td>41.709555</td>\n",
       "      <td>-72.990963</td>\n",
       "      <td>41.696683</td>\n",
       "      <td>6.000000</td>\n",
       "    </tr>\n",
       "  </tbody>\n",
       "</table>\n",
       "</div>"
      ],
      "text/plain": [
       "       pickup_longitude  pickup_latitude  dropoff_longitude  dropoff_latitude  \\\n",
       "count       9914.000000      9914.000000        9914.000000       9914.000000   \n",
       "mean         -73.974722        40.751041         -73.973657         40.751743   \n",
       "std            0.042774         0.033541           0.039072          0.035435   \n",
       "min          -74.252193        40.573143         -74.263242         40.568973   \n",
       "25%          -73.992501        40.736125         -73.991247         40.735254   \n",
       "50%          -73.982326        40.753051         -73.980015         40.754065   \n",
       "75%          -73.968013        40.767113         -73.964059         40.768757   \n",
       "max          -72.986532        41.709555         -72.990963         41.696683   \n",
       "\n",
       "       passenger_count  \n",
       "count      9914.000000  \n",
       "mean          1.671273  \n",
       "std           1.278747  \n",
       "min           1.000000  \n",
       "25%           1.000000  \n",
       "50%           1.000000  \n",
       "75%           2.000000  \n",
       "max           6.000000  "
      ]
     },
     "execution_count": 8,
     "metadata": {},
     "output_type": "execute_result"
    }
   ],
   "source": [
    "test.describe()"
   ]
  },
  {
   "cell_type": "code",
   "execution_count": 9,
   "id": "3336e720",
   "metadata": {},
   "outputs": [
    {
     "data": {
      "text/plain": [
       "fare_amount           object\n",
       "pickup_datetime       object\n",
       "pickup_longitude     float64\n",
       "pickup_latitude      float64\n",
       "dropoff_longitude    float64\n",
       "dropoff_latitude     float64\n",
       "passenger_count      float64\n",
       "dtype: object"
      ]
     },
     "execution_count": 9,
     "metadata": {},
     "output_type": "execute_result"
    }
   ],
   "source": [
    "train.dtypes"
   ]
  },
  {
   "cell_type": "markdown",
   "id": "00e005eb",
   "metadata": {},
   "source": [
    "# Data preprocessing"
   ]
  },
  {
   "cell_type": "code",
   "execution_count": 10,
   "id": "ee5181e7",
   "metadata": {},
   "outputs": [],
   "source": [
    "#convert fare_amount object to numeric\n",
    "train[\"fare_amount\"]= pd.to_numeric(train[\"fare_amount\"],errors=\"coerce\")"
   ]
  },
  {
   "cell_type": "code",
   "execution_count": 11,
   "id": "0821b0c5",
   "metadata": {},
   "outputs": [
    {
     "data": {
      "text/plain": [
       "fare_amount          float64\n",
       "pickup_datetime       object\n",
       "pickup_longitude     float64\n",
       "pickup_latitude      float64\n",
       "dropoff_longitude    float64\n",
       "dropoff_latitude     float64\n",
       "passenger_count      float64\n",
       "dtype: object"
      ]
     },
     "execution_count": 11,
     "metadata": {},
     "output_type": "execute_result"
    }
   ],
   "source": [
    "train.dtypes"
   ]
  },
  {
   "cell_type": "code",
   "execution_count": 12,
   "id": "243d37dd",
   "metadata": {},
   "outputs": [
    {
     "data": {
      "text/html": [
       "<div>\n",
       "<style scoped>\n",
       "    .dataframe tbody tr th:only-of-type {\n",
       "        vertical-align: middle;\n",
       "    }\n",
       "\n",
       "    .dataframe tbody tr th {\n",
       "        vertical-align: top;\n",
       "    }\n",
       "\n",
       "    .dataframe thead th {\n",
       "        text-align: right;\n",
       "    }\n",
       "</style>\n",
       "<table border=\"1\" class=\"dataframe\">\n",
       "  <thead>\n",
       "    <tr style=\"text-align: right;\">\n",
       "      <th></th>\n",
       "      <th>fare_amount</th>\n",
       "      <th>pickup_datetime</th>\n",
       "      <th>pickup_longitude</th>\n",
       "      <th>pickup_latitude</th>\n",
       "      <th>dropoff_longitude</th>\n",
       "      <th>dropoff_latitude</th>\n",
       "      <th>passenger_count</th>\n",
       "    </tr>\n",
       "  </thead>\n",
       "  <tbody>\n",
       "    <tr>\n",
       "      <th>0</th>\n",
       "      <td>4.5</td>\n",
       "      <td>2009-06-15 17:26:21 UTC</td>\n",
       "      <td>-73.844311</td>\n",
       "      <td>40.721319</td>\n",
       "      <td>-73.841610</td>\n",
       "      <td>40.712278</td>\n",
       "      <td>1.0</td>\n",
       "    </tr>\n",
       "    <tr>\n",
       "      <th>1</th>\n",
       "      <td>16.9</td>\n",
       "      <td>2010-01-05 16:52:16 UTC</td>\n",
       "      <td>-74.016048</td>\n",
       "      <td>40.711303</td>\n",
       "      <td>-73.979268</td>\n",
       "      <td>40.782004</td>\n",
       "      <td>1.0</td>\n",
       "    </tr>\n",
       "    <tr>\n",
       "      <th>2</th>\n",
       "      <td>5.7</td>\n",
       "      <td>2011-08-18 00:35:00 UTC</td>\n",
       "      <td>-73.982738</td>\n",
       "      <td>40.761270</td>\n",
       "      <td>-73.991242</td>\n",
       "      <td>40.750562</td>\n",
       "      <td>2.0</td>\n",
       "    </tr>\n",
       "    <tr>\n",
       "      <th>3</th>\n",
       "      <td>7.7</td>\n",
       "      <td>2012-04-21 04:30:42 UTC</td>\n",
       "      <td>-73.987130</td>\n",
       "      <td>40.733143</td>\n",
       "      <td>-73.991567</td>\n",
       "      <td>40.758092</td>\n",
       "      <td>1.0</td>\n",
       "    </tr>\n",
       "    <tr>\n",
       "      <th>4</th>\n",
       "      <td>5.3</td>\n",
       "      <td>2010-03-09 07:51:00 UTC</td>\n",
       "      <td>-73.968095</td>\n",
       "      <td>40.768008</td>\n",
       "      <td>-73.956655</td>\n",
       "      <td>40.783762</td>\n",
       "      <td>1.0</td>\n",
       "    </tr>\n",
       "    <tr>\n",
       "      <th>...</th>\n",
       "      <td>...</td>\n",
       "      <td>...</td>\n",
       "      <td>...</td>\n",
       "      <td>...</td>\n",
       "      <td>...</td>\n",
       "      <td>...</td>\n",
       "      <td>...</td>\n",
       "    </tr>\n",
       "    <tr>\n",
       "      <th>16062</th>\n",
       "      <td>6.5</td>\n",
       "      <td>2014-12-12 07:41:00 UTC</td>\n",
       "      <td>-74.008820</td>\n",
       "      <td>40.718757</td>\n",
       "      <td>-73.998865</td>\n",
       "      <td>40.719987</td>\n",
       "      <td>1.0</td>\n",
       "    </tr>\n",
       "    <tr>\n",
       "      <th>16063</th>\n",
       "      <td>16.1</td>\n",
       "      <td>2009-07-13 07:58:00 UTC</td>\n",
       "      <td>-73.981310</td>\n",
       "      <td>40.781695</td>\n",
       "      <td>-74.014392</td>\n",
       "      <td>40.715527</td>\n",
       "      <td>2.0</td>\n",
       "    </tr>\n",
       "    <tr>\n",
       "      <th>16064</th>\n",
       "      <td>8.5</td>\n",
       "      <td>2009-11-11 11:19:07 UTC</td>\n",
       "      <td>-73.972507</td>\n",
       "      <td>40.753417</td>\n",
       "      <td>-73.979577</td>\n",
       "      <td>40.765495</td>\n",
       "      <td>1.0</td>\n",
       "    </tr>\n",
       "    <tr>\n",
       "      <th>16065</th>\n",
       "      <td>8.1</td>\n",
       "      <td>2010-05-11 23:53:00 UTC</td>\n",
       "      <td>-73.957027</td>\n",
       "      <td>40.765945</td>\n",
       "      <td>-73.981983</td>\n",
       "      <td>40.779560</td>\n",
       "      <td>1.0</td>\n",
       "    </tr>\n",
       "    <tr>\n",
       "      <th>16066</th>\n",
       "      <td>8.5</td>\n",
       "      <td>2011-12-14 06:24:33 UTC</td>\n",
       "      <td>-74.002111</td>\n",
       "      <td>40.729755</td>\n",
       "      <td>-73.983877</td>\n",
       "      <td>40.761975</td>\n",
       "      <td>NaN</td>\n",
       "    </tr>\n",
       "  </tbody>\n",
       "</table>\n",
       "<p>16066 rows × 7 columns</p>\n",
       "</div>"
      ],
      "text/plain": [
       "       fare_amount          pickup_datetime  pickup_longitude  \\\n",
       "0              4.5  2009-06-15 17:26:21 UTC        -73.844311   \n",
       "1             16.9  2010-01-05 16:52:16 UTC        -74.016048   \n",
       "2              5.7  2011-08-18 00:35:00 UTC        -73.982738   \n",
       "3              7.7  2012-04-21 04:30:42 UTC        -73.987130   \n",
       "4              5.3  2010-03-09 07:51:00 UTC        -73.968095   \n",
       "...            ...                      ...               ...   \n",
       "16062          6.5  2014-12-12 07:41:00 UTC        -74.008820   \n",
       "16063         16.1  2009-07-13 07:58:00 UTC        -73.981310   \n",
       "16064          8.5  2009-11-11 11:19:07 UTC        -73.972507   \n",
       "16065          8.1  2010-05-11 23:53:00 UTC        -73.957027   \n",
       "16066          8.5  2011-12-14 06:24:33 UTC        -74.002111   \n",
       "\n",
       "       pickup_latitude  dropoff_longitude  dropoff_latitude  passenger_count  \n",
       "0            40.721319         -73.841610         40.712278              1.0  \n",
       "1            40.711303         -73.979268         40.782004              1.0  \n",
       "2            40.761270         -73.991242         40.750562              2.0  \n",
       "3            40.733143         -73.991567         40.758092              1.0  \n",
       "4            40.768008         -73.956655         40.783762              1.0  \n",
       "...                ...                ...               ...              ...  \n",
       "16062        40.718757         -73.998865         40.719987              1.0  \n",
       "16063        40.781695         -74.014392         40.715527              2.0  \n",
       "16064        40.753417         -73.979577         40.765495              1.0  \n",
       "16065        40.765945         -73.981983         40.779560              1.0  \n",
       "16066        40.729755         -73.983877         40.761975              NaN  \n",
       "\n",
       "[16066 rows x 7 columns]"
      ]
     },
     "execution_count": 12,
     "metadata": {},
     "output_type": "execute_result"
    }
   ],
   "source": [
    "train.dropna(subset= [\"pickup_datetime\"])"
   ]
  },
  {
   "cell_type": "code",
   "execution_count": 13,
   "id": "c8c21059",
   "metadata": {},
   "outputs": [],
   "source": [
    "train[\"pickup_datetime\"]= pd.to_datetime(train[\"pickup_datetime\"],format= '%Y-%m-%d %H:%M:%S UTC')"
   ]
  },
  {
   "cell_type": "code",
   "execution_count": 14,
   "id": "23c4c7f9",
   "metadata": {},
   "outputs": [],
   "source": [
    "train['year'] =train[\"pickup_datetime\"].dt.year\n",
    "train['month']=train[\"pickup_datetime\"].dt.month\n",
    "train['date']=train[\"pickup_datetime\"].dt.day\n",
    "train['day']=train[\"pickup_datetime\"].dt.dayofweek\n",
    "train['hour']=train[\"pickup_datetime\"].dt.hour\n",
    "train['Minute']=train[\"pickup_datetime\"].dt.minute"
   ]
  },
  {
   "cell_type": "code",
   "execution_count": 15,
   "id": "a645add5",
   "metadata": {},
   "outputs": [
    {
     "data": {
      "text/plain": [
       "fare_amount                 float64\n",
       "pickup_datetime      datetime64[ns]\n",
       "pickup_longitude            float64\n",
       "pickup_latitude             float64\n",
       "dropoff_longitude           float64\n",
       "dropoff_latitude            float64\n",
       "passenger_count             float64\n",
       "year                        float64\n",
       "month                       float64\n",
       "date                        float64\n",
       "day                         float64\n",
       "hour                        float64\n",
       "Minute                      float64\n",
       "dtype: object"
      ]
     },
     "execution_count": 15,
     "metadata": {},
     "output_type": "execute_result"
    }
   ],
   "source": [
    "train.dtypes"
   ]
  },
  {
   "cell_type": "code",
   "execution_count": 16,
   "id": "225a912f",
   "metadata": {},
   "outputs": [],
   "source": [
    "test[\"pickup_datetime\"]= pd.to_datetime(test[\"pickup_datetime\"],format= '%Y-%m-%d %H:%M:%S UTC')"
   ]
  },
  {
   "cell_type": "code",
   "execution_count": 17,
   "id": "9104670c",
   "metadata": {},
   "outputs": [],
   "source": [
    "test['year'] =test[\"pickup_datetime\"].dt.year\n",
    "test['month']=test[\"pickup_datetime\"].dt.month\n",
    "test['date']=test[\"pickup_datetime\"].dt.day\n",
    "test['day']=test[\"pickup_datetime\"].dt.dayofweek\n",
    "test['hour']=test[\"pickup_datetime\"].dt.hour\n",
    "test['Minute']=test[\"pickup_datetime\"].dt.minute"
   ]
  },
  {
   "cell_type": "code",
   "execution_count": 18,
   "id": "9bffb3ed",
   "metadata": {},
   "outputs": [
    {
     "data": {
      "text/plain": [
       "pickup_datetime      datetime64[ns]\n",
       "pickup_longitude            float64\n",
       "pickup_latitude             float64\n",
       "dropoff_longitude           float64\n",
       "dropoff_latitude            float64\n",
       "passenger_count               int64\n",
       "year                          int32\n",
       "month                         int32\n",
       "date                          int32\n",
       "day                           int32\n",
       "hour                          int32\n",
       "Minute                        int32\n",
       "dtype: object"
      ]
     },
     "execution_count": 18,
     "metadata": {},
     "output_type": "execute_result"
    }
   ],
   "source": [
    "test.dtypes"
   ]
  },
  {
   "cell_type": "code",
   "execution_count": 19,
   "id": "4a25eaa6",
   "metadata": {},
   "outputs": [
    {
     "name": "stdout",
     "output_type": "stream",
     "text": [
      "0\n"
     ]
    }
   ],
   "source": [
    "train =train.drop(train[train[\"pickup_datetime\"].isnull()].index,axis=0)\n",
    "print(train[\"pickup_datetime\"].isnull().sum())"
   ]
  },
  {
   "cell_type": "code",
   "execution_count": 20,
   "id": "3062e90e",
   "metadata": {},
   "outputs": [
    {
     "data": {
      "text/plain": [
       "count    16011.000000\n",
       "mean         2.625171\n",
       "std         60.846021\n",
       "min          0.000000\n",
       "25%          1.000000\n",
       "50%          1.000000\n",
       "75%          2.000000\n",
       "max       5345.000000\n",
       "Name: passenger_count, dtype: float64"
      ]
     },
     "execution_count": 20,
     "metadata": {},
     "output_type": "execute_result"
    }
   ],
   "source": [
    "train[\"passenger_count\"].describe()"
   ]
  },
  {
   "cell_type": "code",
   "execution_count": 21,
   "id": "f917a83a",
   "metadata": {},
   "outputs": [],
   "source": [
    "train =train.drop(train[train[\"passenger_count\"]>6].index,axis=0)"
   ]
  },
  {
   "cell_type": "code",
   "execution_count": 22,
   "id": "9094e795",
   "metadata": {},
   "outputs": [],
   "source": [
    "train =train.drop(train[train[\"passenger_count\"]<0.99].index,axis=0)"
   ]
  },
  {
   "cell_type": "code",
   "execution_count": 23,
   "id": "88c7cf9b",
   "metadata": {},
   "outputs": [
    {
     "data": {
      "text/plain": [
       "count    15933.000000\n",
       "mean         1.649677\n",
       "std          1.265925\n",
       "min          1.000000\n",
       "25%          1.000000\n",
       "50%          1.000000\n",
       "75%          2.000000\n",
       "max          6.000000\n",
       "Name: passenger_count, dtype: float64"
      ]
     },
     "execution_count": 23,
     "metadata": {},
     "output_type": "execute_result"
    }
   ],
   "source": [
    "train[\"passenger_count\"].describe()"
   ]
  },
  {
   "cell_type": "code",
   "execution_count": 24,
   "id": "d6e4ef11",
   "metadata": {},
   "outputs": [
    {
     "name": "stdout",
     "output_type": "stream",
     "text": [
      "0\n"
     ]
    }
   ],
   "source": [
    "train =train.drop(train[train[\"passenger_count\"].isnull()].index,axis=0)\n",
    "print(train[\"passenger_count\"].isnull().sum())"
   ]
  },
  {
   "cell_type": "code",
   "execution_count": 25,
   "id": "05f44f89",
   "metadata": {},
   "outputs": [
    {
     "data": {
      "text/plain": [
       "1015    54343.0\n",
       "1072     4343.0\n",
       "607       453.0\n",
       "980       434.0\n",
       "1335      180.0\n",
       "         ...   \n",
       "1712        NaN\n",
       "2412        NaN\n",
       "2458        NaN\n",
       "8178        NaN\n",
       "8226        NaN\n",
       "Name: fare_amount, Length: 15933, dtype: float64"
      ]
     },
     "execution_count": 25,
     "metadata": {},
     "output_type": "execute_result"
    }
   ],
   "source": [
    "train[\"fare_amount\"].sort_values(ascending= False)"
   ]
  },
  {
   "cell_type": "code",
   "execution_count": 26,
   "id": "72cd26e7",
   "metadata": {},
   "outputs": [],
   "source": [
    "\n",
    "train =train.drop(train[train[\"fare_amount\"]<0].index,axis=0)"
   ]
  },
  {
   "cell_type": "code",
   "execution_count": 27,
   "id": "aa8faaeb",
   "metadata": {},
   "outputs": [],
   "source": [
    "train =train.drop(train[train[\"fare_amount\"]>500].index,axis=0)"
   ]
  },
  {
   "cell_type": "code",
   "execution_count": 28,
   "id": "fe931f41",
   "metadata": {},
   "outputs": [
    {
     "data": {
      "text/plain": [
       "(15928, 13)"
      ]
     },
     "execution_count": 28,
     "metadata": {},
     "output_type": "execute_result"
    }
   ],
   "source": [
    "train.shape"
   ]
  },
  {
   "cell_type": "code",
   "execution_count": 29,
   "id": "a61bdb43",
   "metadata": {},
   "outputs": [
    {
     "name": "stdout",
     "output_type": "stream",
     "text": [
      "0\n"
     ]
    }
   ],
   "source": [
    "train =train.drop(train[train[\"passenger_count\"].isnull()].index,axis=0)\n",
    "print(train[\"passenger_count\"].isnull().sum())"
   ]
  },
  {
   "cell_type": "code",
   "execution_count": 30,
   "id": "c623924f",
   "metadata": {},
   "outputs": [
    {
     "data": {
      "text/html": [
       "<div>\n",
       "<style scoped>\n",
       "    .dataframe tbody tr th:only-of-type {\n",
       "        vertical-align: middle;\n",
       "    }\n",
       "\n",
       "    .dataframe tbody tr th {\n",
       "        vertical-align: top;\n",
       "    }\n",
       "\n",
       "    .dataframe thead th {\n",
       "        text-align: right;\n",
       "    }\n",
       "</style>\n",
       "<table border=\"1\" class=\"dataframe\">\n",
       "  <thead>\n",
       "    <tr style=\"text-align: right;\">\n",
       "      <th></th>\n",
       "      <th>fare_amount</th>\n",
       "      <th>pickup_datetime</th>\n",
       "      <th>pickup_longitude</th>\n",
       "      <th>pickup_latitude</th>\n",
       "      <th>dropoff_longitude</th>\n",
       "      <th>dropoff_latitude</th>\n",
       "      <th>passenger_count</th>\n",
       "      <th>year</th>\n",
       "      <th>month</th>\n",
       "      <th>date</th>\n",
       "      <th>day</th>\n",
       "      <th>hour</th>\n",
       "      <th>Minute</th>\n",
       "    </tr>\n",
       "  </thead>\n",
       "  <tbody>\n",
       "    <tr>\n",
       "      <th>5686</th>\n",
       "      <td>3.3</td>\n",
       "      <td>2011-07-30 11:15:00</td>\n",
       "      <td>-73.947235</td>\n",
       "      <td>401.083332</td>\n",
       "      <td>-73.951392</td>\n",
       "      <td>40.778927</td>\n",
       "      <td>1.0</td>\n",
       "      <td>2011.0</td>\n",
       "      <td>7.0</td>\n",
       "      <td>30.0</td>\n",
       "      <td>5.0</td>\n",
       "      <td>11.0</td>\n",
       "      <td>15.0</td>\n",
       "    </tr>\n",
       "  </tbody>\n",
       "</table>\n",
       "</div>"
      ],
      "text/plain": [
       "      fare_amount     pickup_datetime  pickup_longitude  pickup_latitude  \\\n",
       "5686          3.3 2011-07-30 11:15:00        -73.947235       401.083332   \n",
       "\n",
       "      dropoff_longitude  dropoff_latitude  passenger_count    year  month  \\\n",
       "5686         -73.951392         40.778927              1.0  2011.0    7.0   \n",
       "\n",
       "      date  day  hour  Minute  \n",
       "5686  30.0  5.0  11.0    15.0  "
      ]
     },
     "execution_count": 30,
     "metadata": {},
     "output_type": "execute_result"
    }
   ],
   "source": [
    "#we need to drop all latitude less than -90 and greater than 90\n",
    "train[train[\"pickup_latitude\"]<-90]\n",
    "train[train[\"pickup_latitude\"]>90]"
   ]
  },
  {
   "cell_type": "code",
   "execution_count": 31,
   "id": "241f96e9",
   "metadata": {},
   "outputs": [],
   "source": [
    "train =train.drop(train[train[\"pickup_latitude\"]<-90].index,axis=0)\n",
    "train =train.drop(train[train[\"pickup_latitude\"]>90].index,axis=0)"
   ]
  },
  {
   "cell_type": "code",
   "execution_count": 32,
   "id": "455cb6fe",
   "metadata": {},
   "outputs": [],
   "source": [
    "test =test.drop(test[test[\"pickup_latitude\"]<-90].index,axis=0)\n",
    "test =test.drop(test[test[\"pickup_latitude\"]>90].index,axis=0)"
   ]
  },
  {
   "cell_type": "code",
   "execution_count": 33,
   "id": "c6d8726c",
   "metadata": {},
   "outputs": [
    {
     "data": {
      "text/html": [
       "<div>\n",
       "<style scoped>\n",
       "    .dataframe tbody tr th:only-of-type {\n",
       "        vertical-align: middle;\n",
       "    }\n",
       "\n",
       "    .dataframe tbody tr th {\n",
       "        vertical-align: top;\n",
       "    }\n",
       "\n",
       "    .dataframe thead th {\n",
       "        text-align: right;\n",
       "    }\n",
       "</style>\n",
       "<table border=\"1\" class=\"dataframe\">\n",
       "  <thead>\n",
       "    <tr style=\"text-align: right;\">\n",
       "      <th></th>\n",
       "      <th>fare_amount</th>\n",
       "      <th>pickup_datetime</th>\n",
       "      <th>pickup_longitude</th>\n",
       "      <th>pickup_latitude</th>\n",
       "      <th>dropoff_longitude</th>\n",
       "      <th>dropoff_latitude</th>\n",
       "      <th>passenger_count</th>\n",
       "      <th>year</th>\n",
       "      <th>month</th>\n",
       "      <th>date</th>\n",
       "      <th>day</th>\n",
       "      <th>hour</th>\n",
       "      <th>Minute</th>\n",
       "    </tr>\n",
       "  </thead>\n",
       "  <tbody>\n",
       "  </tbody>\n",
       "</table>\n",
       "</div>"
      ],
      "text/plain": [
       "Empty DataFrame\n",
       "Columns: [fare_amount, pickup_datetime, pickup_longitude, pickup_latitude, dropoff_longitude, dropoff_latitude, passenger_count, year, month, date, day, hour, Minute]\n",
       "Index: []"
      ]
     },
     "execution_count": 33,
     "metadata": {},
     "output_type": "execute_result"
    }
   ],
   "source": [
    "train[train[\"pickup_latitude\"]<-180]\n",
    "train[train[\"pickup_latitude\"]>180]"
   ]
  },
  {
   "cell_type": "code",
   "execution_count": 34,
   "id": "6a048bf7",
   "metadata": {},
   "outputs": [],
   "source": [
    "train =train.drop(train[train[\"pickup_latitude\"]<-180].index,axis=0)\n",
    "train =train.drop(train[train[\"pickup_latitude\"]>180].index,axis=0)"
   ]
  },
  {
   "cell_type": "code",
   "execution_count": 35,
   "id": "0304b7f1",
   "metadata": {},
   "outputs": [],
   "source": [
    "test =test.drop(test[test[\"pickup_latitude\"]<-180].index,axis=0)\n",
    "test =test.drop(test[test[\"pickup_latitude\"]>180].index,axis=0)"
   ]
  },
  {
   "cell_type": "code",
   "execution_count": 36,
   "id": "c9a51497",
   "metadata": {},
   "outputs": [
    {
     "data": {
      "text/plain": [
       "(15927, 13)"
      ]
     },
     "execution_count": 36,
     "metadata": {},
     "output_type": "execute_result"
    }
   ],
   "source": [
    "train.shape"
   ]
  },
  {
   "cell_type": "code",
   "execution_count": 37,
   "id": "e9bbfb7c",
   "metadata": {},
   "outputs": [],
   "source": [
    "from math import radians,sin,cos,asin,sqrt\n",
    "\n",
    "def haversine(a):\n",
    "    lon1=a[0]\n",
    "    lat1=a[1]\n",
    "    lon2=a[2]\n",
    "    lat2=a[3]\n",
    "    \n",
    "    lon1,lat1,lon2,lat2=map(radians,[lon1,lat1,lon2,lat2])\n",
    "    \n",
    "    dlon=lon2-lon1\n",
    "    dlat=lat2-lat1\n",
    "    a=sin(dlat/2)**2+cos(lat1)*cos(lat2)*sin(dlon/2)**2\n",
    "    c=2*asin(sqrt(a))\n",
    "    km=6371*c\n",
    "    return km"
   ]
  },
  {
   "cell_type": "code",
   "execution_count": 38,
   "id": "10f9901a",
   "metadata": {},
   "outputs": [],
   "source": [
    "train[\"distance\"]=train[[\"pickup_longitude\",\"pickup_latitude\",\"dropoff_longitude\",\"dropoff_latitude\"]].apply(haversine,axis=1)"
   ]
  },
  {
   "cell_type": "code",
   "execution_count": 39,
   "id": "d3d2dbb7",
   "metadata": {},
   "outputs": [],
   "source": [
    "test[\"distance\"]=train[[\"pickup_longitude\",\"pickup_latitude\",\"dropoff_longitude\",\"dropoff_latitude\"]].apply(haversine,axis=1)"
   ]
  },
  {
   "cell_type": "code",
   "execution_count": 40,
   "id": "fa0346b4",
   "metadata": {},
   "outputs": [
    {
     "data": {
      "text/html": [
       "<div>\n",
       "<style scoped>\n",
       "    .dataframe tbody tr th:only-of-type {\n",
       "        vertical-align: middle;\n",
       "    }\n",
       "\n",
       "    .dataframe tbody tr th {\n",
       "        vertical-align: top;\n",
       "    }\n",
       "\n",
       "    .dataframe thead th {\n",
       "        text-align: right;\n",
       "    }\n",
       "</style>\n",
       "<table border=\"1\" class=\"dataframe\">\n",
       "  <thead>\n",
       "    <tr style=\"text-align: right;\">\n",
       "      <th></th>\n",
       "      <th>fare_amount</th>\n",
       "      <th>pickup_datetime</th>\n",
       "      <th>pickup_longitude</th>\n",
       "      <th>pickup_latitude</th>\n",
       "      <th>dropoff_longitude</th>\n",
       "      <th>dropoff_latitude</th>\n",
       "      <th>passenger_count</th>\n",
       "      <th>year</th>\n",
       "      <th>month</th>\n",
       "      <th>date</th>\n",
       "      <th>day</th>\n",
       "      <th>hour</th>\n",
       "      <th>Minute</th>\n",
       "      <th>distance</th>\n",
       "    </tr>\n",
       "  </thead>\n",
       "  <tbody>\n",
       "    <tr>\n",
       "      <th>0</th>\n",
       "      <td>4.5</td>\n",
       "      <td>2009-06-15 17:26:21</td>\n",
       "      <td>-73.844311</td>\n",
       "      <td>40.721319</td>\n",
       "      <td>-73.841610</td>\n",
       "      <td>40.712278</td>\n",
       "      <td>1.0</td>\n",
       "      <td>2009.0</td>\n",
       "      <td>6.0</td>\n",
       "      <td>15.0</td>\n",
       "      <td>0.0</td>\n",
       "      <td>17.0</td>\n",
       "      <td>26.0</td>\n",
       "      <td>1.030764</td>\n",
       "    </tr>\n",
       "    <tr>\n",
       "      <th>1</th>\n",
       "      <td>16.9</td>\n",
       "      <td>2010-01-05 16:52:16</td>\n",
       "      <td>-74.016048</td>\n",
       "      <td>40.711303</td>\n",
       "      <td>-73.979268</td>\n",
       "      <td>40.782004</td>\n",
       "      <td>1.0</td>\n",
       "      <td>2010.0</td>\n",
       "      <td>1.0</td>\n",
       "      <td>5.0</td>\n",
       "      <td>1.0</td>\n",
       "      <td>16.0</td>\n",
       "      <td>52.0</td>\n",
       "      <td>8.450134</td>\n",
       "    </tr>\n",
       "    <tr>\n",
       "      <th>2</th>\n",
       "      <td>5.7</td>\n",
       "      <td>2011-08-18 00:35:00</td>\n",
       "      <td>-73.982738</td>\n",
       "      <td>40.761270</td>\n",
       "      <td>-73.991242</td>\n",
       "      <td>40.750562</td>\n",
       "      <td>2.0</td>\n",
       "      <td>2011.0</td>\n",
       "      <td>8.0</td>\n",
       "      <td>18.0</td>\n",
       "      <td>3.0</td>\n",
       "      <td>0.0</td>\n",
       "      <td>35.0</td>\n",
       "      <td>1.389525</td>\n",
       "    </tr>\n",
       "    <tr>\n",
       "      <th>3</th>\n",
       "      <td>7.7</td>\n",
       "      <td>2012-04-21 04:30:42</td>\n",
       "      <td>-73.987130</td>\n",
       "      <td>40.733143</td>\n",
       "      <td>-73.991567</td>\n",
       "      <td>40.758092</td>\n",
       "      <td>1.0</td>\n",
       "      <td>2012.0</td>\n",
       "      <td>4.0</td>\n",
       "      <td>21.0</td>\n",
       "      <td>5.0</td>\n",
       "      <td>4.0</td>\n",
       "      <td>30.0</td>\n",
       "      <td>2.799270</td>\n",
       "    </tr>\n",
       "    <tr>\n",
       "      <th>4</th>\n",
       "      <td>5.3</td>\n",
       "      <td>2010-03-09 07:51:00</td>\n",
       "      <td>-73.968095</td>\n",
       "      <td>40.768008</td>\n",
       "      <td>-73.956655</td>\n",
       "      <td>40.783762</td>\n",
       "      <td>1.0</td>\n",
       "      <td>2010.0</td>\n",
       "      <td>3.0</td>\n",
       "      <td>9.0</td>\n",
       "      <td>1.0</td>\n",
       "      <td>7.0</td>\n",
       "      <td>51.0</td>\n",
       "      <td>1.999157</td>\n",
       "    </tr>\n",
       "  </tbody>\n",
       "</table>\n",
       "</div>"
      ],
      "text/plain": [
       "   fare_amount     pickup_datetime  pickup_longitude  pickup_latitude  \\\n",
       "0          4.5 2009-06-15 17:26:21        -73.844311        40.721319   \n",
       "1         16.9 2010-01-05 16:52:16        -74.016048        40.711303   \n",
       "2          5.7 2011-08-18 00:35:00        -73.982738        40.761270   \n",
       "3          7.7 2012-04-21 04:30:42        -73.987130        40.733143   \n",
       "4          5.3 2010-03-09 07:51:00        -73.968095        40.768008   \n",
       "\n",
       "   dropoff_longitude  dropoff_latitude  passenger_count    year  month  date  \\\n",
       "0         -73.841610         40.712278              1.0  2009.0    6.0  15.0   \n",
       "1         -73.979268         40.782004              1.0  2010.0    1.0   5.0   \n",
       "2         -73.991242         40.750562              2.0  2011.0    8.0  18.0   \n",
       "3         -73.991567         40.758092              1.0  2012.0    4.0  21.0   \n",
       "4         -73.956655         40.783762              1.0  2010.0    3.0   9.0   \n",
       "\n",
       "   day  hour  Minute  distance  \n",
       "0  0.0  17.0    26.0  1.030764  \n",
       "1  1.0  16.0    52.0  8.450134  \n",
       "2  3.0   0.0    35.0  1.389525  \n",
       "3  5.0   4.0    30.0  2.799270  \n",
       "4  1.0   7.0    51.0  1.999157  "
      ]
     },
     "execution_count": 40,
     "metadata": {},
     "output_type": "execute_result"
    }
   ],
   "source": [
    "train.head()"
   ]
  },
  {
   "cell_type": "code",
   "execution_count": 41,
   "id": "63ee1d86",
   "metadata": {},
   "outputs": [
    {
     "data": {
      "text/plain": [
       "count    15927.000000\n",
       "mean        15.051837\n",
       "std        311.488027\n",
       "min          0.000000\n",
       "25%          1.214825\n",
       "50%          2.125945\n",
       "75%          3.850299\n",
       "max       8667.542104\n",
       "Name: distance, dtype: float64"
      ]
     },
     "execution_count": 41,
     "metadata": {},
     "output_type": "execute_result"
    }
   ],
   "source": [
    "train[\"distance\"].describe()"
   ]
  },
  {
   "cell_type": "code",
   "execution_count": 42,
   "id": "59a92ea2",
   "metadata": {},
   "outputs": [],
   "source": [
    "train =train.drop(train[train[\"distance\"]== 0].index,axis=0)"
   ]
  },
  {
   "cell_type": "code",
   "execution_count": 43,
   "id": "ed18ab01",
   "metadata": {},
   "outputs": [],
   "source": [
    "test =test.drop(test[test[\"distance\"]== 0].index,axis=0)"
   ]
  },
  {
   "cell_type": "code",
   "execution_count": 44,
   "id": "52171783",
   "metadata": {},
   "outputs": [],
   "source": [
    "train =train.drop(train[train[\"distance\"]>130].index,axis=0)"
   ]
  },
  {
   "cell_type": "code",
   "execution_count": 45,
   "id": "a50eb0f7",
   "metadata": {},
   "outputs": [],
   "source": [
    "test =test.drop(test[test[\"distance\"]>130].index,axis=0)"
   ]
  },
  {
   "cell_type": "code",
   "execution_count": 46,
   "id": "aa23efdb",
   "metadata": {},
   "outputs": [
    {
     "data": {
      "text/plain": [
       "count    15448.000000\n",
       "mean         3.442293\n",
       "std          4.595593\n",
       "min          0.000111\n",
       "25%          1.276583\n",
       "50%          2.191322\n",
       "75%          3.934646\n",
       "max        129.950482\n",
       "Name: distance, dtype: float64"
      ]
     },
     "execution_count": 46,
     "metadata": {},
     "output_type": "execute_result"
    }
   ],
   "source": [
    "train[\"distance\"].describe()"
   ]
  },
  {
   "cell_type": "code",
   "execution_count": 47,
   "id": "1c801884",
   "metadata": {},
   "outputs": [
    {
     "data": {
      "text/plain": [
       "(15448, 14)"
      ]
     },
     "execution_count": 47,
     "metadata": {},
     "output_type": "execute_result"
    }
   ],
   "source": [
    "train.shape"
   ]
  },
  {
   "cell_type": "code",
   "execution_count": 48,
   "id": "965f13eb",
   "metadata": {},
   "outputs": [
    {
     "data": {
      "text/html": [
       "<div>\n",
       "<style scoped>\n",
       "    .dataframe tbody tr th:only-of-type {\n",
       "        vertical-align: middle;\n",
       "    }\n",
       "\n",
       "    .dataframe tbody tr th {\n",
       "        vertical-align: top;\n",
       "    }\n",
       "\n",
       "    .dataframe thead th {\n",
       "        text-align: right;\n",
       "    }\n",
       "</style>\n",
       "<table border=\"1\" class=\"dataframe\">\n",
       "  <thead>\n",
       "    <tr style=\"text-align: right;\">\n",
       "      <th></th>\n",
       "      <th>fare_amount</th>\n",
       "      <th>pickup_datetime</th>\n",
       "      <th>pickup_longitude</th>\n",
       "      <th>pickup_latitude</th>\n",
       "      <th>dropoff_longitude</th>\n",
       "      <th>dropoff_latitude</th>\n",
       "      <th>passenger_count</th>\n",
       "      <th>year</th>\n",
       "      <th>month</th>\n",
       "      <th>date</th>\n",
       "      <th>day</th>\n",
       "      <th>hour</th>\n",
       "      <th>Minute</th>\n",
       "      <th>distance</th>\n",
       "    </tr>\n",
       "  </thead>\n",
       "  <tbody>\n",
       "    <tr>\n",
       "      <th>0</th>\n",
       "      <td>4.5</td>\n",
       "      <td>2009-06-15 17:26:21</td>\n",
       "      <td>-73.844311</td>\n",
       "      <td>40.721319</td>\n",
       "      <td>-73.841610</td>\n",
       "      <td>40.712278</td>\n",
       "      <td>1.0</td>\n",
       "      <td>2009.0</td>\n",
       "      <td>6.0</td>\n",
       "      <td>15.0</td>\n",
       "      <td>0.0</td>\n",
       "      <td>17.0</td>\n",
       "      <td>26.0</td>\n",
       "      <td>1.030764</td>\n",
       "    </tr>\n",
       "    <tr>\n",
       "      <th>1</th>\n",
       "      <td>16.9</td>\n",
       "      <td>2010-01-05 16:52:16</td>\n",
       "      <td>-74.016048</td>\n",
       "      <td>40.711303</td>\n",
       "      <td>-73.979268</td>\n",
       "      <td>40.782004</td>\n",
       "      <td>1.0</td>\n",
       "      <td>2010.0</td>\n",
       "      <td>1.0</td>\n",
       "      <td>5.0</td>\n",
       "      <td>1.0</td>\n",
       "      <td>16.0</td>\n",
       "      <td>52.0</td>\n",
       "      <td>8.450134</td>\n",
       "    </tr>\n",
       "    <tr>\n",
       "      <th>2</th>\n",
       "      <td>5.7</td>\n",
       "      <td>2011-08-18 00:35:00</td>\n",
       "      <td>-73.982738</td>\n",
       "      <td>40.761270</td>\n",
       "      <td>-73.991242</td>\n",
       "      <td>40.750562</td>\n",
       "      <td>2.0</td>\n",
       "      <td>2011.0</td>\n",
       "      <td>8.0</td>\n",
       "      <td>18.0</td>\n",
       "      <td>3.0</td>\n",
       "      <td>0.0</td>\n",
       "      <td>35.0</td>\n",
       "      <td>1.389525</td>\n",
       "    </tr>\n",
       "    <tr>\n",
       "      <th>3</th>\n",
       "      <td>7.7</td>\n",
       "      <td>2012-04-21 04:30:42</td>\n",
       "      <td>-73.987130</td>\n",
       "      <td>40.733143</td>\n",
       "      <td>-73.991567</td>\n",
       "      <td>40.758092</td>\n",
       "      <td>1.0</td>\n",
       "      <td>2012.0</td>\n",
       "      <td>4.0</td>\n",
       "      <td>21.0</td>\n",
       "      <td>5.0</td>\n",
       "      <td>4.0</td>\n",
       "      <td>30.0</td>\n",
       "      <td>2.799270</td>\n",
       "    </tr>\n",
       "    <tr>\n",
       "      <th>4</th>\n",
       "      <td>5.3</td>\n",
       "      <td>2010-03-09 07:51:00</td>\n",
       "      <td>-73.968095</td>\n",
       "      <td>40.768008</td>\n",
       "      <td>-73.956655</td>\n",
       "      <td>40.783762</td>\n",
       "      <td>1.0</td>\n",
       "      <td>2010.0</td>\n",
       "      <td>3.0</td>\n",
       "      <td>9.0</td>\n",
       "      <td>1.0</td>\n",
       "      <td>7.0</td>\n",
       "      <td>51.0</td>\n",
       "      <td>1.999157</td>\n",
       "    </tr>\n",
       "  </tbody>\n",
       "</table>\n",
       "</div>"
      ],
      "text/plain": [
       "   fare_amount     pickup_datetime  pickup_longitude  pickup_latitude  \\\n",
       "0          4.5 2009-06-15 17:26:21        -73.844311        40.721319   \n",
       "1         16.9 2010-01-05 16:52:16        -74.016048        40.711303   \n",
       "2          5.7 2011-08-18 00:35:00        -73.982738        40.761270   \n",
       "3          7.7 2012-04-21 04:30:42        -73.987130        40.733143   \n",
       "4          5.3 2010-03-09 07:51:00        -73.968095        40.768008   \n",
       "\n",
       "   dropoff_longitude  dropoff_latitude  passenger_count    year  month  date  \\\n",
       "0         -73.841610         40.712278              1.0  2009.0    6.0  15.0   \n",
       "1         -73.979268         40.782004              1.0  2010.0    1.0   5.0   \n",
       "2         -73.991242         40.750562              2.0  2011.0    8.0  18.0   \n",
       "3         -73.991567         40.758092              1.0  2012.0    4.0  21.0   \n",
       "4         -73.956655         40.783762              1.0  2010.0    3.0   9.0   \n",
       "\n",
       "   day  hour  Minute  distance  \n",
       "0  0.0  17.0    26.0  1.030764  \n",
       "1  1.0  16.0    52.0  8.450134  \n",
       "2  3.0   0.0    35.0  1.389525  \n",
       "3  5.0   4.0    30.0  2.799270  \n",
       "4  1.0   7.0    51.0  1.999157  "
      ]
     },
     "execution_count": 48,
     "metadata": {},
     "output_type": "execute_result"
    }
   ],
   "source": [
    "train.head()"
   ]
  },
  {
   "cell_type": "code",
   "execution_count": 49,
   "id": "a6cb7e37",
   "metadata": {},
   "outputs": [
    {
     "data": {
      "text/plain": [
       "count    15448.000000\n",
       "mean         3.034956\n",
       "std          1.969587\n",
       "min          0.000000\n",
       "25%          1.000000\n",
       "50%          3.000000\n",
       "75%          5.000000\n",
       "max          6.000000\n",
       "Name: day, dtype: float64"
      ]
     },
     "execution_count": 49,
     "metadata": {},
     "output_type": "execute_result"
    }
   ],
   "source": [
    "train[\"day\"].describe()"
   ]
  },
  {
   "cell_type": "code",
   "execution_count": 50,
   "id": "b3966589",
   "metadata": {},
   "outputs": [
    {
     "data": {
      "text/plain": [
       "fare_amount                 float64\n",
       "pickup_datetime      datetime64[ns]\n",
       "pickup_longitude            float64\n",
       "pickup_latitude             float64\n",
       "dropoff_longitude           float64\n",
       "dropoff_latitude            float64\n",
       "passenger_count             float64\n",
       "year                        float64\n",
       "month                       float64\n",
       "date                        float64\n",
       "day                         float64\n",
       "hour                        float64\n",
       "Minute                      float64\n",
       "distance                    float64\n",
       "dtype: object"
      ]
     },
     "execution_count": 50,
     "metadata": {},
     "output_type": "execute_result"
    }
   ],
   "source": [
    "train.dtypes"
   ]
  },
  {
   "cell_type": "code",
   "execution_count": 51,
   "id": "104b76f1",
   "metadata": {},
   "outputs": [
    {
     "name": "stdout",
     "output_type": "stream",
     "text": [
      "0\n"
     ]
    }
   ],
   "source": [
    "train =train.drop(train[train[\"passenger_count\"].isnull()].index,axis=0)\n",
    "print(train[\"passenger_count\"].isnull().sum())"
   ]
  },
  {
   "cell_type": "code",
   "execution_count": 52,
   "id": "7d43616d",
   "metadata": {},
   "outputs": [
    {
     "name": "stdout",
     "output_type": "stream",
     "text": [
      "0\n"
     ]
    }
   ],
   "source": [
    "train =train.drop(train[train[\"fare_amount\"].isnull()].index,axis=0)\n",
    "print(train[\"fare_amount\"].isnull().sum())"
   ]
  },
  {
   "cell_type": "code",
   "execution_count": 53,
   "id": "ad80f05a",
   "metadata": {},
   "outputs": [
    {
     "name": "stdout",
     "output_type": "stream",
     "text": [
      "0\n"
     ]
    }
   ],
   "source": [
    "test =test.drop(test[test[\"passenger_count\"].isnull()].index,axis=0)\n",
    "print(test[\"passenger_count\"].isnull().sum())"
   ]
  },
  {
   "cell_type": "code",
   "execution_count": 54,
   "id": "a8f202da",
   "metadata": {},
   "outputs": [
    {
     "name": "stdout",
     "output_type": "stream",
     "text": [
      "0\n"
     ]
    }
   ],
   "source": [
    "test =test.drop(test[test[\"distance\"].isnull()].index,axis=0)\n",
    "print(test[\"distance\"].isnull().sum())"
   ]
  },
  {
   "cell_type": "code",
   "execution_count": 55,
   "id": "55c54147",
   "metadata": {},
   "outputs": [],
   "source": [
    "test['year'] =test[\"year\"].astype('int64')\n",
    "test['month']=test[\"month\"].astype('int64')\n",
    "test['date']=test[\"date\"].astype('int64')\n",
    "test['day']=test[\"day\"].astype('int64')\n",
    "test['hour']=test[\"hour\"].astype('int64')\n",
    "test['passenger_count']=test[\"passenger_count\"].astype('int64')"
   ]
  },
  {
   "cell_type": "code",
   "execution_count": 56,
   "id": "e68b38c8",
   "metadata": {},
   "outputs": [
    {
     "data": {
      "text/plain": [
       "(9509, 13)"
      ]
     },
     "execution_count": 56,
     "metadata": {},
     "output_type": "execute_result"
    }
   ],
   "source": [
    "test.shape"
   ]
  },
  {
   "cell_type": "code",
   "execution_count": 57,
   "id": "3ee2df25",
   "metadata": {},
   "outputs": [
    {
     "data": {
      "text/plain": [
       "(15426, 14)"
      ]
     },
     "execution_count": 57,
     "metadata": {},
     "output_type": "execute_result"
    }
   ],
   "source": [
    "train.shape"
   ]
  },
  {
   "cell_type": "code",
   "execution_count": 58,
   "id": "cb325571",
   "metadata": {},
   "outputs": [],
   "source": [
    "train['year'] =train[\"year\"].astype('int64')\n",
    "train['month']=train[\"month\"].astype('int64')\n",
    "train['date']=train[\"date\"].astype('int64')\n",
    "train['day']=train[\"day\"].astype('int64')\n",
    "train['hour']=train[\"hour\"].astype('int64')\n",
    "train['passenger_count']=train[\"passenger_count\"].astype('int64')"
   ]
  },
  {
   "cell_type": "code",
   "execution_count": 59,
   "id": "1fb713f5",
   "metadata": {},
   "outputs": [
    {
     "data": {
      "text/plain": [
       "pickup_datetime      datetime64[ns]\n",
       "pickup_longitude            float64\n",
       "pickup_latitude             float64\n",
       "dropoff_longitude           float64\n",
       "dropoff_latitude            float64\n",
       "passenger_count               int64\n",
       "year                          int64\n",
       "month                         int64\n",
       "date                          int64\n",
       "day                           int64\n",
       "hour                          int64\n",
       "Minute                        int32\n",
       "distance                    float64\n",
       "dtype: object"
      ]
     },
     "execution_count": 59,
     "metadata": {},
     "output_type": "execute_result"
    }
   ],
   "source": [
    "test.dtypes"
   ]
  },
  {
   "cell_type": "code",
   "execution_count": 60,
   "id": "4bc6687f",
   "metadata": {},
   "outputs": [],
   "source": [
    "drop_columns=[\"pickup_datetime\",\"pickup_longitude\",\"pickup_latitude\",\"dropoff_longitude\",\"dropoff_latitude\",\"Minute\"]\n",
    "test=test.drop(drop_columns,axis=1)"
   ]
  },
  {
   "cell_type": "code",
   "execution_count": 61,
   "id": "8b33963e",
   "metadata": {},
   "outputs": [
    {
     "data": {
      "text/plain": [
       "passenger_count      int64\n",
       "year                 int64\n",
       "month                int64\n",
       "date                 int64\n",
       "day                  int64\n",
       "hour                 int64\n",
       "distance           float64\n",
       "dtype: object"
      ]
     },
     "execution_count": 61,
     "metadata": {},
     "output_type": "execute_result"
    }
   ],
   "source": [
    "test.dtypes"
   ]
  },
  {
   "cell_type": "code",
   "execution_count": 62,
   "id": "6ed7a0c9",
   "metadata": {},
   "outputs": [
    {
     "data": {
      "text/plain": [
       "fare_amount                 float64\n",
       "pickup_datetime      datetime64[ns]\n",
       "pickup_longitude            float64\n",
       "pickup_latitude             float64\n",
       "dropoff_longitude           float64\n",
       "dropoff_latitude            float64\n",
       "passenger_count               int64\n",
       "year                          int64\n",
       "month                         int64\n",
       "date                          int64\n",
       "day                           int64\n",
       "hour                          int64\n",
       "Minute                      float64\n",
       "distance                    float64\n",
       "dtype: object"
      ]
     },
     "execution_count": 62,
     "metadata": {},
     "output_type": "execute_result"
    }
   ],
   "source": [
    "train.dtypes"
   ]
  },
  {
   "cell_type": "code",
   "execution_count": 63,
   "id": "1e3b11d2",
   "metadata": {},
   "outputs": [],
   "source": [
    "drop_columns=[\"pickup_datetime\"]\n",
    "train=train.drop(drop_columns,axis=1)"
   ]
  },
  {
   "cell_type": "code",
   "execution_count": 64,
   "id": "141ab16e",
   "metadata": {},
   "outputs": [
    {
     "data": {
      "text/plain": [
       "fare_amount          float64\n",
       "pickup_longitude     float64\n",
       "pickup_latitude      float64\n",
       "dropoff_longitude    float64\n",
       "dropoff_latitude     float64\n",
       "passenger_count        int64\n",
       "year                   int64\n",
       "month                  int64\n",
       "date                   int64\n",
       "day                    int64\n",
       "hour                   int64\n",
       "Minute               float64\n",
       "distance             float64\n",
       "dtype: object"
      ]
     },
     "execution_count": 64,
     "metadata": {},
     "output_type": "execute_result"
    }
   ],
   "source": [
    "train.dtypes"
   ]
  },
  {
   "cell_type": "code",
   "execution_count": 65,
   "id": "c57fa288",
   "metadata": {},
   "outputs": [],
   "source": [
    "drop_columns=[\"pickup_longitude\",\"pickup_latitude\",\"dropoff_longitude\",\"dropoff_latitude\",\"Minute\"]\n",
    "train=train.drop(drop_columns,axis=1)"
   ]
  },
  {
   "cell_type": "code",
   "execution_count": 66,
   "id": "e5030745",
   "metadata": {},
   "outputs": [
    {
     "data": {
      "text/plain": [
       "fare_amount        float64\n",
       "passenger_count      int64\n",
       "year                 int64\n",
       "month                int64\n",
       "date                 int64\n",
       "day                  int64\n",
       "hour                 int64\n",
       "distance           float64\n",
       "dtype: object"
      ]
     },
     "execution_count": 66,
     "metadata": {},
     "output_type": "execute_result"
    }
   ],
   "source": [
    "train.dtypes"
   ]
  },
  {
   "cell_type": "markdown",
   "id": "c99a567b",
   "metadata": {},
   "source": [
    "# data visualization"
   ]
  },
  {
   "cell_type": "code",
   "execution_count": 126,
   "id": "18c512a4",
   "metadata": {},
   "outputs": [
    {
     "data": {
      "text/plain": [
       "Text(0.5, 1.0, 'Number of passengers')"
      ]
     },
     "execution_count": 126,
     "metadata": {},
     "output_type": "execute_result"
    },
    {
     "data": {
      "image/png": "[encoded data removed]",
      "text/plain": [
       "<Figure size 1500x500 with 1 Axes>"
      ]
     },
     "metadata": {},
     "output_type": "display_data"
    }
   ],
   "source": [
    "plt.figure(figsize=(15,5))\n",
    "sns.countplot(x=\"passenger_count\",data=train)\n",
    "plt.title(\"Number of passengers\")"
   ]
  },
  {
   "cell_type": "code",
   "execution_count": 130,
   "id": "1eee75e7",
   "metadata": {},
   "outputs": [
    {
     "data": {
      "text/plain": [
       "<function matplotlib.pyplot.show(close=None, block=None)>"
      ]
     },
     "execution_count": 130,
     "metadata": {},
     "output_type": "execute_result"
    },
    {
     "data": {
      "image/png": "[encoded data removed]",
      "text/plain": [
       "<Figure size 1700x500 with 1 Axes>"
      ]
     },
     "metadata": {},
     "output_type": "display_data"
    }
   ],
   "source": [
    "plt.figure(figsize=(17,5))\n",
    "plt.scatter(x=train[\"passenger_count\"],y=train[\"fare_amount\"],s=10,color=\"green\")\n",
    "plt.xlabel(\"No of passengers\")\n",
    "plt.ylabel(\"Fare amount\")\n",
    "plt.show\n"
   ]
  },
  {
   "cell_type": "code",
   "execution_count": 131,
   "id": "f5e769be",
   "metadata": {},
   "outputs": [
    {
     "data": {
      "text/plain": [
       "<function matplotlib.pyplot.show(close=None, block=None)>"
      ]
     },
     "execution_count": 131,
     "metadata": {},
     "output_type": "execute_result"
    },
    {
     "data": {
      "image/png": "[encoded data removed]",
      "text/plain": [
       "<Figure size 1500x500 with 1 Axes>"
      ]
     },
     "metadata": {},
     "output_type": "display_data"
    }
   ],
   "source": [
    "plt.figure(figsize=(15,5))\n",
    "plt.scatter(x=train[\"date\"],y=train[\"fare_amount\"],s=10,color=\"orange\")\n",
    "plt.xlabel(\"date\")\n",
    "plt.ylabel(\"Fare amount\")\n",
    "plt.show\n"
   ]
  },
  {
   "cell_type": "code",
   "execution_count": 70,
   "id": "7249a3fc",
   "metadata": {},
   "outputs": [
    {
     "data": {
      "text/plain": [
       "<function matplotlib.pyplot.show(close=None, block=None)>"
      ]
     },
     "execution_count": 70,
     "metadata": {},
     "output_type": "execute_result"
    },
    {
     "data": {
      "image/png": "[encoded data removed]",
      "text/plain": [
       "<Figure size 1500x500 with 1 Axes>"
      ]
     },
     "metadata": {},
     "output_type": "display_data"
    }
   ],
   "source": [
    "plt.figure(figsize=(15,5))\n",
    "train.groupby(train[\"hour\"])[\"hour\"].count().plot(kind=\"bar\")\n",
    "plt.show"
   ]
  },
  {
   "cell_type": "code",
   "execution_count": 71,
   "id": "9e956fe6",
   "metadata": {},
   "outputs": [
    {
     "data": {
      "text/plain": [
       "<function matplotlib.pyplot.show(close=None, block=None)>"
      ]
     },
     "execution_count": 71,
     "metadata": {},
     "output_type": "execute_result"
    },
    {
     "data": {
      "image/png": "[encoded data removed]",
      "text/plain": [
       "<Figure size 1500x500 with 1 Axes>"
      ]
     },
     "metadata": {},
     "output_type": "display_data"
    }
   ],
   "source": [
    "plt.figure(figsize=(15,5))\n",
    "plt.scatter(x=train[\"day\"],y=train[\"fare_amount\"],s=10)\n",
    "plt.xlabel(\"day\")\n",
    "plt.ylabel(\"Fare amount\")\n",
    "plt.show\n"
   ]
  },
  {
   "cell_type": "code",
   "execution_count": 72,
   "id": "a0af2ade",
   "metadata": {},
   "outputs": [
    {
     "data": {
      "text/plain": [
       "<Axes: xlabel='day', ylabel='count'>"
      ]
     },
     "execution_count": 72,
     "metadata": {},
     "output_type": "execute_result"
    },
    {
     "data": {
      "image/png": "[encoded data removed]",
      "text/plain": [
       "<Figure size 1500x500 with 1 Axes>"
      ]
     },
     "metadata": {},
     "output_type": "display_data"
    }
   ],
   "source": [
    "plt.figure(figsize=(15,5))\n",
    "sns.countplot(x=\"day\",data=train)"
   ]
  },
  {
   "cell_type": "code",
   "execution_count": 73,
   "id": "3d263dce",
   "metadata": {},
   "outputs": [
    {
     "data": {
      "text/plain": [
       "<function matplotlib.pyplot.show(close=None, block=None)>"
      ]
     },
     "execution_count": 73,
     "metadata": {},
     "output_type": "execute_result"
    },
    {
     "data": {
      "image/png": "[encoded data removed]",
      "text/plain": [
       "<Figure size 1500x500 with 1 Axes>"
      ]
     },
     "metadata": {},
     "output_type": "display_data"
    }
   ],
   "source": [
    "plt.figure(figsize=(15,5))\n",
    "plt.scatter(x=train[\"distance\"],y=train[\"fare_amount\"],s=10)\n",
    "plt.xlabel(\"distance\")\n",
    "plt.ylabel(\"Fare amount\")\n",
    "plt.show\n"
   ]
  },
  {
   "cell_type": "markdown",
   "id": "c3ed3db9",
   "metadata": {},
   "source": [
    "# Feature scaling"
   ]
  },
  {
   "cell_type": "code",
   "execution_count": 132,
   "id": "dd6104d9",
   "metadata": {},
   "outputs": [
    {
     "name": "stdout",
     "output_type": "stream",
     "text": [
      "fare_amount\n"
     ]
    },
    {
     "name": "stderr",
     "output_type": "stream",
     "text": [
      "C:\\Users\\S\\AppData\\Local\\Temp\\ipykernel_7540\\1875168939.py:4: UserWarning: \n",
      "\n",
      "`distplot` is a deprecated function and will be removed in seaborn v0.14.0.\n",
      "\n",
      "Please adapt your code to use either `displot` (a figure-level function with\n",
      "similar flexibility) or `histplot` (an axes-level function for histograms).\n",
      "\n",
      "For a guide to updating your code to use the new functions, please see\n",
      "https://gist.github.com/mwaskom/de44147ed2974457ad6372750bbe5751\n",
      "\n",
      "  sns.distplot(train[i],bins=\"auto\",color=\"green\")\n"
     ]
    },
    {
     "data": {
      "image/png": "[encoded data removed]",
      "text/plain": [
       "<Figure size 640x480 with 1 Axes>"
      ]
     },
     "metadata": {},
     "output_type": "display_data"
    },
    {
     "name": "stdout",
     "output_type": "stream",
     "text": [
      "distance\n"
     ]
    },
    {
     "name": "stderr",
     "output_type": "stream",
     "text": [
      "C:\\Users\\S\\AppData\\Local\\Temp\\ipykernel_7540\\1875168939.py:4: UserWarning: \n",
      "\n",
      "`distplot` is a deprecated function and will be removed in seaborn v0.14.0.\n",
      "\n",
      "Please adapt your code to use either `displot` (a figure-level function with\n",
      "similar flexibility) or `histplot` (an axes-level function for histograms).\n",
      "\n",
      "For a guide to updating your code to use the new functions, please see\n",
      "https://gist.github.com/mwaskom/de44147ed2974457ad6372750bbe5751\n",
      "\n",
      "  sns.distplot(train[i],bins=\"auto\",color=\"green\")\n"
     ]
    },
    {
     "data": {
      "image/png": "[encoded data removed]",
      "text/plain": [
       "<Figure size 640x480 with 1 Axes>"
      ]
     },
     "metadata": {},
     "output_type": "display_data"
    }
   ],
   "source": [
    "#normalizing the dataset\n",
    "for i in [\"fare_amount\",\"distance\"]:\n",
    "    print(i)\n",
    "    sns.distplot(train[i],bins=\"auto\",color=\"green\")\n",
    "    plt.title(\"distribution of variable\"+i)\n",
    "    plt.ylabel(\"density\")\n",
    "    plt.show()"
   ]
  },
  {
   "cell_type": "code",
   "execution_count": 75,
   "id": "2320821e",
   "metadata": {},
   "outputs": [],
   "source": [
    "train[\"fare_amount\"]=np.log1p(train[\"fare_amount\"])\n",
    "train[\"distance\"]=np.log1p(train[\"distance\"])"
   ]
  },
  {
   "cell_type": "code",
   "execution_count": 76,
   "id": "e6bc08a9",
   "metadata": {},
   "outputs": [
    {
     "name": "stdout",
     "output_type": "stream",
     "text": [
      "fare_amount\n"
     ]
    },
    {
     "name": "stderr",
     "output_type": "stream",
     "text": [
      "C:\\Users\\S\\AppData\\Local\\Temp\\ipykernel_7540\\499007908.py:3: UserWarning: \n",
      "\n",
      "`distplot` is a deprecated function and will be removed in seaborn v0.14.0.\n",
      "\n",
      "Please adapt your code to use either `displot` (a figure-level function with\n",
      "similar flexibility) or `histplot` (an axes-level function for histograms).\n",
      "\n",
      "For a guide to updating your code to use the new functions, please see\n",
      "https://gist.github.com/mwaskom/de44147ed2974457ad6372750bbe5751\n",
      "\n",
      "  sns.distplot(train[i],bins=\"auto\",color=\"green\")\n"
     ]
    },
    {
     "data": {
      "image/png": "[encoded data removed]",
      "text/plain": [
       "<Figure size 640x480 with 1 Axes>"
      ]
     },
     "metadata": {},
     "output_type": "display_data"
    },
    {
     "name": "stdout",
     "output_type": "stream",
     "text": [
      "distance\n"
     ]
    },
    {
     "name": "stderr",
     "output_type": "stream",
     "text": [
      "C:\\Users\\S\\AppData\\Local\\Temp\\ipykernel_7540\\499007908.py:3: UserWarning: \n",
      "\n",
      "`distplot` is a deprecated function and will be removed in seaborn v0.14.0.\n",
      "\n",
      "Please adapt your code to use either `displot` (a figure-level function with\n",
      "similar flexibility) or `histplot` (an axes-level function for histograms).\n",
      "\n",
      "For a guide to updating your code to use the new functions, please see\n",
      "https://gist.github.com/mwaskom/de44147ed2974457ad6372750bbe5751\n",
      "\n",
      "  sns.distplot(train[i],bins=\"auto\",color=\"green\")\n"
     ]
    },
    {
     "data": {
      "image/png": "[encoded data removed]",
      "text/plain": [
       "<Figure size 640x480 with 1 Axes>"
      ]
     },
     "metadata": {},
     "output_type": "display_data"
    }
   ],
   "source": [
    "for i in [\"fare_amount\",\"distance\"]:\n",
    "    print(i)\n",
    "    sns.distplot(train[i],bins=\"auto\",color=\"green\")\n",
    "    plt.title(\"distribution of variable\"+i)\n",
    "    plt.ylabel(\"density\")\n",
    "    plt.show()"
   ]
  },
  {
   "cell_type": "markdown",
   "id": "be858702",
   "metadata": {},
   "source": [
    "as we can see the data is in bell shape so it is normalized"
   ]
  },
  {
   "cell_type": "markdown",
   "id": "49c21ac8",
   "metadata": {},
   "source": [
    "# Applying ML alogorithms"
   ]
  },
  {
   "cell_type": "code",
   "execution_count": 77,
   "id": "a2e8b2d6",
   "metadata": {},
   "outputs": [],
   "source": [
    "x_train,x_test,y_train,y_test=train_test_split(train.iloc[:,train.columns !=\"fare_amount\"],train.iloc[:,0],test_size=0.20,random_state=1)"
   ]
  },
  {
   "cell_type": "code",
   "execution_count": 78,
   "id": "50514527",
   "metadata": {},
   "outputs": [
    {
     "data": {
      "text/html": [
       "<div>\n",
       "<style scoped>\n",
       "    .dataframe tbody tr th:only-of-type {\n",
       "        vertical-align: middle;\n",
       "    }\n",
       "\n",
       "    .dataframe tbody tr th {\n",
       "        vertical-align: top;\n",
       "    }\n",
       "\n",
       "    .dataframe thead th {\n",
       "        text-align: right;\n",
       "    }\n",
       "</style>\n",
       "<table border=\"1\" class=\"dataframe\">\n",
       "  <thead>\n",
       "    <tr style=\"text-align: right;\">\n",
       "      <th></th>\n",
       "      <th>passenger_count</th>\n",
       "      <th>year</th>\n",
       "      <th>month</th>\n",
       "      <th>date</th>\n",
       "      <th>day</th>\n",
       "      <th>hour</th>\n",
       "      <th>distance</th>\n",
       "    </tr>\n",
       "  </thead>\n",
       "  <tbody>\n",
       "    <tr>\n",
       "      <th>13018</th>\n",
       "      <td>1</td>\n",
       "      <td>2014</td>\n",
       "      <td>7</td>\n",
       "      <td>11</td>\n",
       "      <td>4</td>\n",
       "      <td>10</td>\n",
       "      <td>0.828231</td>\n",
       "    </tr>\n",
       "    <tr>\n",
       "      <th>12950</th>\n",
       "      <td>3</td>\n",
       "      <td>2009</td>\n",
       "      <td>6</td>\n",
       "      <td>27</td>\n",
       "      <td>5</td>\n",
       "      <td>17</td>\n",
       "      <td>0.980620</td>\n",
       "    </tr>\n",
       "    <tr>\n",
       "      <th>14009</th>\n",
       "      <td>1</td>\n",
       "      <td>2009</td>\n",
       "      <td>6</td>\n",
       "      <td>12</td>\n",
       "      <td>4</td>\n",
       "      <td>15</td>\n",
       "      <td>0.534072</td>\n",
       "    </tr>\n",
       "    <tr>\n",
       "      <th>2815</th>\n",
       "      <td>1</td>\n",
       "      <td>2012</td>\n",
       "      <td>11</td>\n",
       "      <td>26</td>\n",
       "      <td>0</td>\n",
       "      <td>7</td>\n",
       "      <td>0.911806</td>\n",
       "    </tr>\n",
       "    <tr>\n",
       "      <th>402</th>\n",
       "      <td>1</td>\n",
       "      <td>2012</td>\n",
       "      <td>3</td>\n",
       "      <td>7</td>\n",
       "      <td>2</td>\n",
       "      <td>11</td>\n",
       "      <td>0.781107</td>\n",
       "    </tr>\n",
       "    <tr>\n",
       "      <th>...</th>\n",
       "      <td>...</td>\n",
       "      <td>...</td>\n",
       "      <td>...</td>\n",
       "      <td>...</td>\n",
       "      <td>...</td>\n",
       "      <td>...</td>\n",
       "      <td>...</td>\n",
       "    </tr>\n",
       "    <tr>\n",
       "      <th>994</th>\n",
       "      <td>1</td>\n",
       "      <td>2009</td>\n",
       "      <td>3</td>\n",
       "      <td>24</td>\n",
       "      <td>1</td>\n",
       "      <td>11</td>\n",
       "      <td>1.465260</td>\n",
       "    </tr>\n",
       "    <tr>\n",
       "      <th>5453</th>\n",
       "      <td>1</td>\n",
       "      <td>2012</td>\n",
       "      <td>11</td>\n",
       "      <td>26</td>\n",
       "      <td>0</td>\n",
       "      <td>11</td>\n",
       "      <td>0.754172</td>\n",
       "    </tr>\n",
       "    <tr>\n",
       "      <th>12680</th>\n",
       "      <td>1</td>\n",
       "      <td>2014</td>\n",
       "      <td>3</td>\n",
       "      <td>8</td>\n",
       "      <td>5</td>\n",
       "      <td>15</td>\n",
       "      <td>1.394952</td>\n",
       "    </tr>\n",
       "    <tr>\n",
       "      <th>259</th>\n",
       "      <td>1</td>\n",
       "      <td>2013</td>\n",
       "      <td>5</td>\n",
       "      <td>2</td>\n",
       "      <td>3</td>\n",
       "      <td>3</td>\n",
       "      <td>0.803939</td>\n",
       "    </tr>\n",
       "    <tr>\n",
       "      <th>13917</th>\n",
       "      <td>1</td>\n",
       "      <td>2013</td>\n",
       "      <td>11</td>\n",
       "      <td>15</td>\n",
       "      <td>4</td>\n",
       "      <td>21</td>\n",
       "      <td>1.451971</td>\n",
       "    </tr>\n",
       "  </tbody>\n",
       "</table>\n",
       "<p>12340 rows × 7 columns</p>\n",
       "</div>"
      ],
      "text/plain": [
       "       passenger_count  year  month  date  day  hour  distance\n",
       "13018                1  2014      7    11    4    10  0.828231\n",
       "12950                3  2009      6    27    5    17  0.980620\n",
       "14009                1  2009      6    12    4    15  0.534072\n",
       "2815                 1  2012     11    26    0     7  0.911806\n",
       "402                  1  2012      3     7    2    11  0.781107\n",
       "...                ...   ...    ...   ...  ...   ...       ...\n",
       "994                  1  2009      3    24    1    11  1.465260\n",
       "5453                 1  2012     11    26    0    11  0.754172\n",
       "12680                1  2014      3     8    5    15  1.394952\n",
       "259                  1  2013      5     2    3     3  0.803939\n",
       "13917                1  2013     11    15    4    21  1.451971\n",
       "\n",
       "[12340 rows x 7 columns]"
      ]
     },
     "execution_count": 78,
     "metadata": {},
     "output_type": "execute_result"
    }
   ],
   "source": [
    "x_train"
   ]
  },
  {
   "cell_type": "code",
   "execution_count": 79,
   "id": "f25de5c9",
   "metadata": {},
   "outputs": [
    {
     "data": {
      "text/plain": [
       "(12340, 7)"
      ]
     },
     "execution_count": 79,
     "metadata": {},
     "output_type": "execute_result"
    }
   ],
   "source": [
    "x_train.shape"
   ]
  },
  {
   "cell_type": "code",
   "execution_count": 80,
   "id": "4fad248e",
   "metadata": {},
   "outputs": [
    {
     "name": "stdout",
     "output_type": "stream",
     "text": [
      "(12340, 7)\n",
      "(3086, 7)\n"
     ]
    }
   ],
   "source": [
    "print(x_train.shape)\n",
    "print(x_test.shape)"
   ]
  },
  {
   "cell_type": "code",
   "execution_count": 81,
   "id": "3186fbc0",
   "metadata": {},
   "outputs": [
    {
     "data": {
      "text/plain": [
       "13018    2.014903\n",
       "12950    2.014903\n",
       "14009    1.629241\n",
       "2815     2.079442\n",
       "402      1.902108\n",
       "           ...   \n",
       "994      2.687847\n",
       "5453     2.639057\n",
       "12680    3.020425\n",
       "259      1.945910\n",
       "13917    2.484907\n",
       "Name: fare_amount, Length: 12340, dtype: float64"
      ]
     },
     "execution_count": 81,
     "metadata": {},
     "output_type": "execute_result"
    }
   ],
   "source": [
    "y_train"
   ]
  },
  {
   "cell_type": "code",
   "execution_count": 82,
   "id": "c261b2dc",
   "metadata": {},
   "outputs": [
    {
     "data": {
      "text/plain": [
       "(3086, 7)"
      ]
     },
     "execution_count": 82,
     "metadata": {},
     "output_type": "execute_result"
    }
   ],
   "source": [
    "x_test.shape"
   ]
  },
  {
   "cell_type": "code",
   "execution_count": 83,
   "id": "c6b8af1d",
   "metadata": {},
   "outputs": [
    {
     "data": {
      "text/plain": [
       "1950     1.960095\n",
       "8718     3.780319\n",
       "14900    2.442347\n",
       "9042     1.960095\n",
       "4519     2.862201\n",
       "           ...   \n",
       "89       1.791759\n",
       "1520     2.766319\n",
       "11968    1.629241\n",
       "2672     2.116256\n",
       "7691     2.251292\n",
       "Name: fare_amount, Length: 3086, dtype: float64"
      ]
     },
     "execution_count": 83,
     "metadata": {},
     "output_type": "execute_result"
    }
   ],
   "source": [
    "y_test"
   ]
  },
  {
   "cell_type": "code",
   "execution_count": 84,
   "id": "974c0319",
   "metadata": {},
   "outputs": [
    {
     "data": {
      "text/plain": [
       "(12340,)"
      ]
     },
     "execution_count": 84,
     "metadata": {},
     "output_type": "execute_result"
    }
   ],
   "source": [
    "y_train.shape"
   ]
  },
  {
   "cell_type": "code",
   "execution_count": 85,
   "id": "c0c92da9",
   "metadata": {},
   "outputs": [
    {
     "data": {
      "text/plain": [
       "(3086,)"
      ]
     },
     "execution_count": 85,
     "metadata": {},
     "output_type": "execute_result"
    }
   ],
   "source": [
    "y_test.shape"
   ]
  },
  {
   "cell_type": "code",
   "execution_count": 86,
   "id": "22b4cf47",
   "metadata": {},
   "outputs": [
    {
     "name": "stdout",
     "output_type": "stream",
     "text": [
      "(12340, 7)\n",
      "(3086, 7)\n"
     ]
    }
   ],
   "source": [
    "print(x_train.shape)\n",
    "print(x_test.shape)"
   ]
  },
  {
   "cell_type": "markdown",
   "id": "d8a41e39",
   "metadata": {},
   "source": [
    "# Linear regression"
   ]
  },
  {
   "cell_type": "markdown",
   "id": "5b061dd1",
   "metadata": {},
   "source": [
    "building model on train dataset"
   ]
  },
  {
   "cell_type": "code",
   "execution_count": 87,
   "id": "6dacd2de",
   "metadata": {},
   "outputs": [],
   "source": [
    "fit_LR = LinearRegression().fit(x_train,y_train)"
   ]
  },
  {
   "cell_type": "code",
   "execution_count": 88,
   "id": "b7d9732f",
   "metadata": {},
   "outputs": [],
   "source": [
    "pred_train_LR=fit_LR.predict(x_train)"
   ]
  },
  {
   "cell_type": "code",
   "execution_count": 89,
   "id": "bca06347",
   "metadata": {},
   "outputs": [],
   "source": [
    "pred_test_LR=fit_LR.predict(x_test)"
   ]
  },
  {
   "cell_type": "code",
   "execution_count": 90,
   "id": "f9ba061a",
   "metadata": {},
   "outputs": [],
   "source": [
    "RMSE_test_LR=np.sqrt(mean_squared_error(y_test,pred_test_LR))\n",
    "RMSE_train_LR=np.sqrt(mean_squared_error(y_train,pred_train_LR))"
   ]
  },
  {
   "cell_type": "code",
   "execution_count": 91,
   "id": "d7f278d1",
   "metadata": {},
   "outputs": [
    {
     "name": "stdout",
     "output_type": "stream",
     "text": [
      "RMSE for training data=0.27320776510821143\n",
      "RMSE for test data=0.2597849469323432\n"
     ]
    }
   ],
   "source": [
    "print(\"RMSE for training data=\"+str(RMSE_train_LR))\n",
    "print(\"RMSE for test data=\"+str(RMSE_test_LR))"
   ]
  },
  {
   "cell_type": "code",
   "execution_count": 92,
   "id": "316e747a",
   "metadata": {},
   "outputs": [
    {
     "data": {
      "text/plain": [
       "0.7515091248383604"
      ]
     },
     "execution_count": 92,
     "metadata": {},
     "output_type": "execute_result"
    }
   ],
   "source": [
    "r2_score(y_train,pred_train_LR)"
   ]
  },
  {
   "cell_type": "code",
   "execution_count": 93,
   "id": "abd3f7a3",
   "metadata": {},
   "outputs": [
    {
     "data": {
      "text/plain": [
       "0.7668837453285451"
      ]
     },
     "execution_count": 93,
     "metadata": {},
     "output_type": "execute_result"
    }
   ],
   "source": [
    "r2_score(y_test,pred_test_LR)"
   ]
  },
  {
   "cell_type": "markdown",
   "id": "008ff585",
   "metadata": {},
   "source": [
    "# Desicion tree model"
   ]
  },
  {
   "cell_type": "code",
   "execution_count": 94,
   "id": "f8114055",
   "metadata": {},
   "outputs": [],
   "source": [
    "fit_DT = DecisionTreeRegressor(max_depth = 2).fit(x_train,y_train)"
   ]
  },
  {
   "cell_type": "code",
   "execution_count": 95,
   "id": "6f28aae7",
   "metadata": {},
   "outputs": [],
   "source": [
    "pred_train_DT=fit_DT.predict(x_train)\n",
    "pred_test_DT=fit_DT.predict(x_test)"
   ]
  },
  {
   "cell_type": "code",
   "execution_count": 96,
   "id": "e302a4e8",
   "metadata": {},
   "outputs": [],
   "source": [
    "RMSE_test_DT=np.sqrt(mean_squared_error(y_test,pred_test_DT))\n",
    "RMSE_train_DT=np.sqrt(mean_squared_error(y_train,pred_train_DT))"
   ]
  },
  {
   "cell_type": "code",
   "execution_count": 97,
   "id": "3cdc6baa",
   "metadata": {},
   "outputs": [
    {
     "name": "stdout",
     "output_type": "stream",
     "text": [
      "RMSE for training data=0.2990737699359861\n",
      "RMSE for test data=0.29397438615629223\n"
     ]
    }
   ],
   "source": [
    "print(\"RMSE for training data=\"+str(RMSE_train_DT))\n",
    "print(\"RMSE for test data=\"+str(RMSE_test_DT))"
   ]
  },
  {
   "cell_type": "code",
   "execution_count": 98,
   "id": "fbc2209f",
   "metadata": {},
   "outputs": [
    {
     "data": {
      "text/plain": [
       "0.7022299467307562"
      ]
     },
     "execution_count": 98,
     "metadata": {},
     "output_type": "execute_result"
    }
   ],
   "source": [
    "r2_score(y_train,pred_train_DT)"
   ]
  },
  {
   "cell_type": "code",
   "execution_count": 99,
   "id": "70c80fd4",
   "metadata": {},
   "outputs": [
    {
     "data": {
      "text/plain": [
       "0.7014867751145474"
      ]
     },
     "execution_count": 99,
     "metadata": {},
     "output_type": "execute_result"
    }
   ],
   "source": [
    "r2_score(y_test,pred_test_DT)"
   ]
  },
  {
   "cell_type": "code",
   "execution_count": 100,
   "id": "1aff1077",
   "metadata": {},
   "outputs": [],
   "source": [
    "fit_RF=RandomForestRegressor(n_estimators=200).fit(x_train,y_train)"
   ]
  },
  {
   "cell_type": "code",
   "execution_count": 102,
   "id": "6b64b317",
   "metadata": {},
   "outputs": [],
   "source": [
    "pred_train_RF=fit_RF.predict(x_train)\n",
    "pred_test_RF=fit_RF.predict(x_test)"
   ]
  },
  {
   "cell_type": "code",
   "execution_count": 103,
   "id": "bb177c13",
   "metadata": {},
   "outputs": [],
   "source": [
    "RMSE_test_RF=np.sqrt(mean_squared_error(y_test,pred_test_RF))\n",
    "RMSE_train_RF=np.sqrt(mean_squared_error(y_train,pred_train_RF))"
   ]
  },
  {
   "cell_type": "code",
   "execution_count": 104,
   "id": "bff05466",
   "metadata": {},
   "outputs": [
    {
     "name": "stdout",
     "output_type": "stream",
     "text": [
      "RMSE for training data=0.09491231874540602\n",
      "RMSE for test data=0.24352801203411467\n"
     ]
    }
   ],
   "source": [
    "print(\"RMSE for training data=\"+str(RMSE_train_RF))\n",
    "print(\"RMSE for test data=\"+str(RMSE_test_RF))"
   ]
  },
  {
   "cell_type": "code",
   "execution_count": 105,
   "id": "181e39b0",
   "metadata": {},
   "outputs": [
    {
     "data": {
      "text/plain": [
       "0.9700104785789658"
      ]
     },
     "execution_count": 105,
     "metadata": {},
     "output_type": "execute_result"
    }
   ],
   "source": [
    "r2_score(y_train,pred_train_RF)"
   ]
  },
  {
   "cell_type": "code",
   "execution_count": 106,
   "id": "47081da5",
   "metadata": {},
   "outputs": [
    {
     "data": {
      "text/plain": [
       "0.7951469478758274"
      ]
     },
     "execution_count": 106,
     "metadata": {},
     "output_type": "execute_result"
    }
   ],
   "source": [
    "r2_score(y_test,pred_test_RF)"
   ]
  },
  {
   "cell_type": "markdown",
   "id": "e4a5d94e",
   "metadata": {},
   "source": [
    "# Gradient boosting regressor"
   ]
  },
  {
   "cell_type": "code",
   "execution_count": 107,
   "id": "f2558827",
   "metadata": {},
   "outputs": [],
   "source": [
    "fit_GB = GradientBoostingRegressor().fit(x_train,y_train)"
   ]
  },
  {
   "cell_type": "code",
   "execution_count": 108,
   "id": "0d84e81e",
   "metadata": {},
   "outputs": [],
   "source": [
    "pred_train_GB=fit_GB.predict(x_train)\n",
    "pred_test_GB=fit_GB.predict(x_test)"
   ]
  },
  {
   "cell_type": "code",
   "execution_count": 109,
   "id": "552b4f17",
   "metadata": {},
   "outputs": [],
   "source": [
    "RMSE_test_GB=np.sqrt(mean_squared_error(y_test,pred_test_GB))\n",
    "RMSE_train_GB=np.sqrt(mean_squared_error(y_train,pred_train_GB))"
   ]
  },
  {
   "cell_type": "code",
   "execution_count": 110,
   "id": "bf791769",
   "metadata": {},
   "outputs": [
    {
     "name": "stdout",
     "output_type": "stream",
     "text": [
      "RMSE for training data=0.22705514196390322\n",
      "RMSE for test data=0.23276480027315347\n"
     ]
    }
   ],
   "source": [
    "print(\"RMSE for training data=\"+str(RMSE_train_GB))\n",
    "print(\"RMSE for test data=\"+str(RMSE_test_GB))"
   ]
  },
  {
   "cell_type": "code",
   "execution_count": 111,
   "id": "8acb4f58",
   "metadata": {},
   "outputs": [
    {
     "data": {
      "text/plain": [
       "0.8283724308972896"
      ]
     },
     "execution_count": 111,
     "metadata": {},
     "output_type": "execute_result"
    }
   ],
   "source": [
    "r2_score(y_train,pred_train_GB)"
   ]
  },
  {
   "cell_type": "code",
   "execution_count": 112,
   "id": "d8fed688",
   "metadata": {},
   "outputs": [
    {
     "data": {
      "text/plain": [
       "0.8128545805484645"
      ]
     },
     "execution_count": 112,
     "metadata": {},
     "output_type": "execute_result"
    }
   ],
   "source": [
    "r2_score(y_test,pred_test_GB)"
   ]
  },
  {
   "cell_type": "markdown",
   "id": "ec49467f",
   "metadata": {},
   "source": [
    "# Parameter tuning"
   ]
  },
  {
   "cell_type": "code",
   "execution_count": 113,
   "id": "27563afb",
   "metadata": {},
   "outputs": [
    {
     "name": "stdout",
     "output_type": "stream",
     "text": [
      "parameters currently in use\n",
      "\n",
      "{'bootstrap': True,\n",
      " 'ccp_alpha': 0.0,\n",
      " 'criterion': 'squared_error',\n",
      " 'max_depth': None,\n",
      " 'max_features': 1.0,\n",
      " 'max_leaf_nodes': None,\n",
      " 'max_samples': None,\n",
      " 'min_impurity_decrease': 0.0,\n",
      " 'min_samples_leaf': 1,\n",
      " 'min_samples_split': 2,\n",
      " 'min_weight_fraction_leaf': 0.0,\n",
      " 'n_estimators': 100,\n",
      " 'n_jobs': None,\n",
      " 'oob_score': False,\n",
      " 'random_state': 42,\n",
      " 'verbose': 0,\n",
      " 'warm_start': False}\n"
     ]
    }
   ],
   "source": [
    "from sklearn.ensemble import RandomForestRegressor\n",
    "rf = RandomForestRegressor(random_state=42)\n",
    "from pprint import pprint\n",
    "print(\"parameters currently in use\\n\")\n",
    "pprint(rf.get_params())"
   ]
  },
  {
   "cell_type": "code",
   "execution_count": 114,
   "id": "4d96e17a",
   "metadata": {},
   "outputs": [],
   "source": [
    "x_train_np = np.array(x_train)\n",
    "x_test_np = np.array(x_test)\n",
    "y_train_np = np.array(y_train)\n",
    "y_test_np = np.array(y_test)"
   ]
  },
  {
   "cell_type": "code",
   "execution_count": 115,
   "id": "27c0c2a2",
   "metadata": {},
   "outputs": [
    {
     "name": "stdout",
     "output_type": "stream",
     "text": [
      "randomsearch cv model performance\n",
      "best parameters {'n_estimators': 15, 'max_depth': 9}\n",
      "r_squared=0.8.\n",
      "RMSE= 0.24290070847128437\n"
     ]
    }
   ],
   "source": [
    "#random search cv on random forest model\n",
    "from sklearn.model_selection import RandomizedSearchCV\n",
    "RRF = RandomForestRegressor(random_state=0)\n",
    "n_estimator=list(range(1,20,2))\n",
    "depth=list(range(1,100,2))\n",
    "\n",
    "#create random grid\n",
    "rand_grid = {\"n_estimators\":n_estimator,\"max_depth\":depth}\n",
    "\n",
    "randomcv_rf=RandomizedSearchCV(RRF,param_distributions=rand_grid,n_iter=5,cv=5,random_state=0)\n",
    "randomcv_rf=randomcv_rf.fit(x_train_np,y_train_np)\n",
    "predictions_RRF = randomcv_rf.predict(x_test_np)\n",
    "\n",
    "view_best_params=randomcv_rf.best_params_\n",
    "best_model=randomcv_rf.best_estimator_\n",
    "predictions_RRF=best_model.predict(x_test_np)\n",
    "\n",
    "RRF_r2 = r2_score(y_test_np,predictions_RRF)\n",
    "RRF_rmse=np.sqrt(mean_squared_error(y_test_np,predictions_RRF))\n",
    "print(\"randomsearch cv model performance\")\n",
    "print(\"best parameters\",view_best_params)\n",
    "print(\"r_squared={:0.2}.\".format(RRF_r2))\n",
    "print(\"RMSE=\",RRF_rmse)"
   ]
  },
  {
   "cell_type": "code",
   "execution_count": 116,
   "id": "26ec1d50",
   "metadata": {},
   "outputs": [
    {
     "name": "stdout",
     "output_type": "stream",
     "text": [
      "parameters currently in use\n",
      "\n",
      "{'alpha': 0.9,\n",
      " 'ccp_alpha': 0.0,\n",
      " 'criterion': 'friedman_mse',\n",
      " 'init': None,\n",
      " 'learning_rate': 0.1,\n",
      " 'loss': 'squared_error',\n",
      " 'max_depth': 3,\n",
      " 'max_features': None,\n",
      " 'max_leaf_nodes': None,\n",
      " 'min_impurity_decrease': 0.0,\n",
      " 'min_samples_leaf': 1,\n",
      " 'min_samples_split': 2,\n",
      " 'min_weight_fraction_leaf': 0.0,\n",
      " 'n_estimators': 100,\n",
      " 'n_iter_no_change': None,\n",
      " 'random_state': 42,\n",
      " 'subsample': 1.0,\n",
      " 'tol': 0.0001,\n",
      " 'validation_fraction': 0.1,\n",
      " 'verbose': 0,\n",
      " 'warm_start': False}\n"
     ]
    }
   ],
   "source": [
    "from sklearn.ensemble import GradientBoostingRegressor\n",
    "gb = GradientBoostingRegressor(random_state=42)\n",
    "from pprint import pprint\n",
    "print(\"parameters currently in use\\n\")\n",
    "pprint(gb.get_params())"
   ]
  },
  {
   "cell_type": "code",
   "execution_count": 117,
   "id": "9cf65095",
   "metadata": {},
   "outputs": [
    {
     "name": "stdout",
     "output_type": "stream",
     "text": [
      "randomsearch cv model performance\n",
      "best parameters {'n_estimators': 15, 'max_depth': 9}\n",
      "r_squared=0.78.\n",
      "RMSE= 0.25336150026180837\n"
     ]
    }
   ],
   "source": [
    "from sklearn.model_selection import RandomizedSearchCV\n",
    "gb =GradientBoostingRegressor(random_state=0)\n",
    "n_estimator=list(range(1,20,2))\n",
    "depth=list(range(1,100,2))\n",
    "\n",
    "#create random grid\n",
    "rand_grid = {\"n_estimators\":n_estimator,\"max_depth\":depth}\n",
    "\n",
    "randomcv_gb=RandomizedSearchCV(gb,param_distributions=rand_grid,n_iter=5,cv=5,random_state=0)\n",
    "randomcv_GB=randomcv_gb.fit(x_train_np,y_train_np)\n",
    "predictions_GB = randomcv_GB.predict(x_test_np)\n",
    "\n",
    "view_best_params=randomcv_GB.best_params_\n",
    "best_model=randomcv_GB.best_estimator_\n",
    "predictions_GB=best_model.predict(x_test_np)\n",
    "\n",
    "GB_r2 = r2_score(y_test_np,predictions_GB)\n",
    "GB_rmse=np.sqrt(mean_squared_error(y_test_np,predictions_GB))\n",
    "print(\"randomsearch cv model performance\")\n",
    "print(\"best parameters\",view_best_params)\n",
    "print(\"r_squared={:0.2}.\".format(GB_r2))\n",
    "print(\"RMSE=\",GB_rmse)"
   ]
  },
  {
   "cell_type": "code",
   "execution_count": 118,
   "id": "6fce00c0",
   "metadata": {},
   "outputs": [
    {
     "name": "stdout",
     "output_type": "stream",
     "text": [
      "randomsearch cv model performance\n",
      "best parameters {'n_estimators': 15, 'max_depth': 9}\n",
      "r_squared=0.8.\n",
      "RMSE= 0.23990937885959382\n"
     ]
    }
   ],
   "source": [
    "#GRID SEARCH CV ON RANDOMFORESTREGRESSOR\n",
    "from sklearn.model_selection import GridSearchCV\n",
    "GRF =RandomForestRegressor(random_state=0)\n",
    "n_estimator=list(range(11,20,1))\n",
    "depth=list(range(5,15,2))\n",
    "\n",
    "#create random grid\n",
    "grid_search = {\"n_estimators\":n_estimator,\"max_depth\":depth}\n",
    "\n",
    "gridcv_rf=GridSearchCV(GRF,param_grid=grid_search,cv=5)\n",
    "gridcv_RF=gridcv_rf.fit(x_train_np,y_train_np)\n",
    "predictions_GRf= gridcv_RF.predict(x_test_np)\n",
    "\n",
    "view_best_params_GRF=gridcv_RF.best_params_\n",
    "best_model=gridcv_RF.best_estimator_\n",
    "predictions_GRF=best_model.predict(x_test_np)\n",
    "\n",
    "GRF_r2 = r2_score(y_test_np,predictions_GRF)\n",
    "GRF_rmse=np.sqrt(mean_squared_error(y_test_np,predictions_GRF))\n",
    "print(\"randomsearch cv model performance\")\n",
    "print(\"best parameters\",view_best_params)\n",
    "print(\"r_squared={:0.2}.\".format(GRF_r2))\n",
    "print(\"RMSE=\",GRF_rmse)"
   ]
  },
  {
   "cell_type": "code",
   "execution_count": 120,
   "id": "653211e2",
   "metadata": {},
   "outputs": [
    {
     "name": "stdout",
     "output_type": "stream",
     "text": [
      "randomsearch cv model performance\n",
      "best parameters {'n_estimators': 15, 'max_depth': 9}\n",
      "r_squared=0.79.\n",
      "RMSE= 0.24574824624096017\n"
     ]
    }
   ],
   "source": [
    "from sklearn.model_selection import GridSearchCV\n",
    "gb =GradientBoostingRegressor(random_state=0)\n",
    "n_estimator=list(range(11,20,1))\n",
    "depth=list(range(5,15,2))\n",
    "\n",
    "#create random grid\n",
    "grid_search = {\"n_estimators\":n_estimator,\"max_depth\":depth}\n",
    "\n",
    "gridcv_gb=GridSearchCV(gb,param_grid=grid_search,cv=5)\n",
    "gridcv_GB=gridcv_gb.fit(x_train_np,y_train_np)\n",
    "predictions_GGB = gridcv_GB.predict(x_test_np)\n",
    "\n",
    "view_best_params_GGB=gridcv_GB.best_params_\n",
    "best_model=gridcv_GB.best_estimator_\n",
    "predictions_GGB=best_model.predict(x_test_np)\n",
    "\n",
    "GGB_r2 = r2_score(y_test_np,predictions_GGB)\n",
    "GGB_rmse=np.sqrt(mean_squared_error(y_test_np,predictions_GGB))\n",
    "print(\"randomsearch cv model performance\")\n",
    "print(\"best parameters\",view_best_params)\n",
    "print(\"r_squared={:0.2}.\".format(GGB_r2))\n",
    "print(\"RMSE=\",GGB_rmse)"
   ]
  },
  {
   "cell_type": "markdown",
   "id": "648ec8c7",
   "metadata": {},
   "source": [
    "# Prediction for test dataset"
   ]
  },
  {
   "cell_type": "code",
   "execution_count": 121,
   "id": "5505be68",
   "metadata": {},
   "outputs": [
    {
     "name": "stderr",
     "output_type": "stream",
     "text": [
      "C:\\ProgramData\\anaconda3\\Lib\\site-packages\\sklearn\\base.py:457: UserWarning: X has feature names, but RandomForestRegressor was fitted without feature names\n",
      "  warnings.warn(\n"
     ]
    }
   ],
   "source": [
    "#Grid search cross validation\n",
    "regr =RandomForestRegressor(random_state=0)\n",
    "n_estimator=list(range(11,20,1))\n",
    "depth=list(range(5,15,2))\n",
    "\n",
    "#create random grid\n",
    "grid_search = {\"n_estimators\":n_estimator,\"max_depth\":depth}\n",
    "\n",
    "gridcv_rf=GridSearchCV(regr,param_grid=grid_search,cv=5)\n",
    "gridcv_RF=gridcv_rf.fit(x_train_np,y_train_np)\n",
    "view_best_params_GRF=gridcv_RF.best_params_\n",
    "\n",
    "prediction_GRF_test=gridcv_RF.predict(test)"
   ]
  },
  {
   "cell_type": "code",
   "execution_count": 122,
   "id": "bb9d679d",
   "metadata": {},
   "outputs": [
    {
     "data": {
      "text/plain": [
       "array([2.27700299, 2.86448544, 2.37195425, ..., 2.08690528, 2.69942871,\n",
       "       2.63372862])"
      ]
     },
     "execution_count": 122,
     "metadata": {},
     "output_type": "execute_result"
    }
   ],
   "source": [
    "prediction_GRF_test"
   ]
  },
  {
   "cell_type": "code",
   "execution_count": 123,
   "id": "0e3822f6",
   "metadata": {},
   "outputs": [],
   "source": [
    "test[\"predicted_fare\"]=prediction_GRF_test"
   ]
  },
  {
   "cell_type": "code",
   "execution_count": 124,
   "id": "15c27874",
   "metadata": {},
   "outputs": [
    {
     "data": {
      "text/html": [
       "<div>\n",
       "<style scoped>\n",
       "    .dataframe tbody tr th:only-of-type {\n",
       "        vertical-align: middle;\n",
       "    }\n",
       "\n",
       "    .dataframe tbody tr th {\n",
       "        vertical-align: top;\n",
       "    }\n",
       "\n",
       "    .dataframe thead th {\n",
       "        text-align: right;\n",
       "    }\n",
       "</style>\n",
       "<table border=\"1\" class=\"dataframe\">\n",
       "  <thead>\n",
       "    <tr style=\"text-align: right;\">\n",
       "      <th></th>\n",
       "      <th>passenger_count</th>\n",
       "      <th>year</th>\n",
       "      <th>month</th>\n",
       "      <th>date</th>\n",
       "      <th>day</th>\n",
       "      <th>hour</th>\n",
       "      <th>distance</th>\n",
       "      <th>predicted_fare</th>\n",
       "    </tr>\n",
       "  </thead>\n",
       "  <tbody>\n",
       "    <tr>\n",
       "      <th>0</th>\n",
       "      <td>1</td>\n",
       "      <td>2015</td>\n",
       "      <td>1</td>\n",
       "      <td>27</td>\n",
       "      <td>1</td>\n",
       "      <td>13</td>\n",
       "      <td>1.030764</td>\n",
       "      <td>2.277003</td>\n",
       "    </tr>\n",
       "    <tr>\n",
       "      <th>1</th>\n",
       "      <td>1</td>\n",
       "      <td>2015</td>\n",
       "      <td>1</td>\n",
       "      <td>27</td>\n",
       "      <td>1</td>\n",
       "      <td>13</td>\n",
       "      <td>8.450134</td>\n",
       "      <td>2.864485</td>\n",
       "    </tr>\n",
       "    <tr>\n",
       "      <th>2</th>\n",
       "      <td>1</td>\n",
       "      <td>2011</td>\n",
       "      <td>10</td>\n",
       "      <td>8</td>\n",
       "      <td>5</td>\n",
       "      <td>11</td>\n",
       "      <td>1.389525</td>\n",
       "      <td>2.371954</td>\n",
       "    </tr>\n",
       "    <tr>\n",
       "      <th>3</th>\n",
       "      <td>1</td>\n",
       "      <td>2012</td>\n",
       "      <td>12</td>\n",
       "      <td>1</td>\n",
       "      <td>5</td>\n",
       "      <td>21</td>\n",
       "      <td>2.799270</td>\n",
       "      <td>3.794143</td>\n",
       "    </tr>\n",
       "    <tr>\n",
       "      <th>4</th>\n",
       "      <td>1</td>\n",
       "      <td>2012</td>\n",
       "      <td>12</td>\n",
       "      <td>1</td>\n",
       "      <td>5</td>\n",
       "      <td>21</td>\n",
       "      <td>1.999157</td>\n",
       "      <td>2.931226</td>\n",
       "    </tr>\n",
       "  </tbody>\n",
       "</table>\n",
       "</div>"
      ],
      "text/plain": [
       "   passenger_count  year  month  date  day  hour  distance  predicted_fare\n",
       "0                1  2015      1    27    1    13  1.030764        2.277003\n",
       "1                1  2015      1    27    1    13  8.450134        2.864485\n",
       "2                1  2011     10     8    5    11  1.389525        2.371954\n",
       "3                1  2012     12     1    5    21  2.799270        3.794143\n",
       "4                1  2012     12     1    5    21  1.999157        2.931226"
      ]
     },
     "execution_count": 124,
     "metadata": {},
     "output_type": "execute_result"
    }
   ],
   "source": [
    "test.head()"
   ]
  },
  {
   "cell_type": "code",
   "execution_count": 125,
   "id": "b8e47eb8",
   "metadata": {},
   "outputs": [],
   "source": [
    "test.to_csv(\"test.csv\")"
   ]
  },
  {
   "cell_type": "code",
   "execution_count": null,
   "id": "62fa241e",
   "metadata": {},
   "outputs": [],
   "source": []
  }
 ],
 "metadata": {
  "kernelspec": {
   "display_name": "Python 3 (ipykernel)",
   "language": "python",
   "name": "python3"
  },
  "language_info": {
   "codemirror_mode": {
    "name": "ipython",
    "version": 3
   },
   "file_extension": ".py",
   "mimetype": "text/x-python",
   "name": "python",
   "nbconvert_exporter": "python",
   "pygments_lexer": "ipython3",
   "version": "3.11.7"
  }
 },
 "nbformat": 4,
 "nbformat_minor": 5
}
